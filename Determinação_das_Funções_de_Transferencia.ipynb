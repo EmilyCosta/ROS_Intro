{
  "nbformat": 4,
  "nbformat_minor": 0,
  "metadata": {
    "colab": {
      "name": "Determinação das Funções de Transferencia.ipynb",
      "provenance": [],
      "collapsed_sections": [],
      "include_colab_link": true
    },
    "kernelspec": {
      "name": "python3",
      "display_name": "Python 3"
    },
    "language_info": {
      "name": "python"
    }
  },
  "cells": [
    {
      "cell_type": "markdown",
      "metadata": {
        "id": "view-in-github",
        "colab_type": "text"
      },
      "source": [
        "<a href=\"https://colab.research.google.com/github/EmilyCosta/ROS_Intro/blob/master/Determina%C3%A7%C3%A3o_das_Fun%C3%A7%C3%B5es_de_Transferencia.ipynb\" target=\"_parent\"><img src=\"https://colab.research.google.com/assets/colab-badge.svg\" alt=\"Open In Colab\"/></a>"
      ]
    },
    {
      "cell_type": "markdown",
      "metadata": {
        "id": "xzP1HuynjXBy"
      },
      "source": [
        "#Definições Iniciais do Colab"
      ]
    },
    {
      "cell_type": "code",
      "metadata": {
        "colab": {
          "base_uri": "https://localhost:8080/"
        },
        "id": "ExgXStd8EDsh",
        "outputId": "e710603e-bc56-465e-acfb-fb85b681bf10"
      },
      "source": [
        "#Montar o Drive\n",
        "from google.colab import drive\n",
        "drive.mount('/content/drive')"
      ],
      "execution_count": null,
      "outputs": [
        {
          "output_type": "stream",
          "name": "stdout",
          "text": [
            "Mounted at /content/drive\n"
          ]
        }
      ]
    },
    {
      "cell_type": "code",
      "metadata": {
        "colab": {
          "base_uri": "https://localhost:8080/"
        },
        "id": "85JFdZo0xVM9",
        "outputId": "899f5689-9ed5-43bf-d46d-1278a03132fe"
      },
      "source": [
        "#Instalações Necessárias\n",
        "!pip install slycot \n",
        "!pip install control"
      ],
      "execution_count": null,
      "outputs": [
        {
          "output_type": "stream",
          "name": "stdout",
          "text": [
            "Collecting slycot\n",
            "  Downloading slycot-0.4.0.0.tar.gz (1.5 MB)\n",
            "\u001b[?25l\r\u001b[K     |▏                               | 10 kB 23.5 MB/s eta 0:00:01\r\u001b[K     |▍                               | 20 kB 27.2 MB/s eta 0:00:01\r\u001b[K     |▋                               | 30 kB 14.8 MB/s eta 0:00:01\r\u001b[K     |▉                               | 40 kB 11.0 MB/s eta 0:00:01\r\u001b[K     |█                               | 51 kB 4.5 MB/s eta 0:00:01\r\u001b[K     |█▎                              | 61 kB 4.7 MB/s eta 0:00:01\r\u001b[K     |█▌                              | 71 kB 4.5 MB/s eta 0:00:01\r\u001b[K     |█▊                              | 81 kB 5.0 MB/s eta 0:00:01\r\u001b[K     |██                              | 92 kB 5.0 MB/s eta 0:00:01\r\u001b[K     |██▏                             | 102 kB 4.3 MB/s eta 0:00:01\r\u001b[K     |██▎                             | 112 kB 4.3 MB/s eta 0:00:01\r\u001b[K     |██▌                             | 122 kB 4.3 MB/s eta 0:00:01\r\u001b[K     |██▊                             | 133 kB 4.3 MB/s eta 0:00:01\r\u001b[K     |███                             | 143 kB 4.3 MB/s eta 0:00:01\r\u001b[K     |███▏                            | 153 kB 4.3 MB/s eta 0:00:01\r\u001b[K     |███▍                            | 163 kB 4.3 MB/s eta 0:00:01\r\u001b[K     |███▋                            | 174 kB 4.3 MB/s eta 0:00:01\r\u001b[K     |███▉                            | 184 kB 4.3 MB/s eta 0:00:01\r\u001b[K     |████                            | 194 kB 4.3 MB/s eta 0:00:01\r\u001b[K     |████▎                           | 204 kB 4.3 MB/s eta 0:00:01\r\u001b[K     |████▌                           | 215 kB 4.3 MB/s eta 0:00:01\r\u001b[K     |████▋                           | 225 kB 4.3 MB/s eta 0:00:01\r\u001b[K     |████▉                           | 235 kB 4.3 MB/s eta 0:00:01\r\u001b[K     |█████                           | 245 kB 4.3 MB/s eta 0:00:01\r\u001b[K     |█████▎                          | 256 kB 4.3 MB/s eta 0:00:01\r\u001b[K     |█████▌                          | 266 kB 4.3 MB/s eta 0:00:01\r\u001b[K     |█████▊                          | 276 kB 4.3 MB/s eta 0:00:01\r\u001b[K     |██████                          | 286 kB 4.3 MB/s eta 0:00:01\r\u001b[K     |██████▏                         | 296 kB 4.3 MB/s eta 0:00:01\r\u001b[K     |██████▍                         | 307 kB 4.3 MB/s eta 0:00:01\r\u001b[K     |██████▋                         | 317 kB 4.3 MB/s eta 0:00:01\r\u001b[K     |██████▉                         | 327 kB 4.3 MB/s eta 0:00:01\r\u001b[K     |███████                         | 337 kB 4.3 MB/s eta 0:00:01\r\u001b[K     |███████▏                        | 348 kB 4.3 MB/s eta 0:00:01\r\u001b[K     |███████▍                        | 358 kB 4.3 MB/s eta 0:00:01\r\u001b[K     |███████▋                        | 368 kB 4.3 MB/s eta 0:00:01\r\u001b[K     |███████▉                        | 378 kB 4.3 MB/s eta 0:00:01\r\u001b[K     |████████                        | 389 kB 4.3 MB/s eta 0:00:01\r\u001b[K     |████████▎                       | 399 kB 4.3 MB/s eta 0:00:01\r\u001b[K     |████████▌                       | 409 kB 4.3 MB/s eta 0:00:01\r\u001b[K     |████████▊                       | 419 kB 4.3 MB/s eta 0:00:01\r\u001b[K     |█████████                       | 430 kB 4.3 MB/s eta 0:00:01\r\u001b[K     |█████████                       | 440 kB 4.3 MB/s eta 0:00:01\r\u001b[K     |█████████▎                      | 450 kB 4.3 MB/s eta 0:00:01\r\u001b[K     |█████████▌                      | 460 kB 4.3 MB/s eta 0:00:01\r\u001b[K     |█████████▊                      | 471 kB 4.3 MB/s eta 0:00:01\r\u001b[K     |██████████                      | 481 kB 4.3 MB/s eta 0:00:01\r\u001b[K     |██████████▏                     | 491 kB 4.3 MB/s eta 0:00:01\r\u001b[K     |██████████▍                     | 501 kB 4.3 MB/s eta 0:00:01\r\u001b[K     |██████████▋                     | 512 kB 4.3 MB/s eta 0:00:01\r\u001b[K     |██████████▉                     | 522 kB 4.3 MB/s eta 0:00:01\r\u001b[K     |███████████                     | 532 kB 4.3 MB/s eta 0:00:01\r\u001b[K     |███████████▎                    | 542 kB 4.3 MB/s eta 0:00:01\r\u001b[K     |███████████▍                    | 552 kB 4.3 MB/s eta 0:00:01\r\u001b[K     |███████████▋                    | 563 kB 4.3 MB/s eta 0:00:01\r\u001b[K     |███████████▉                    | 573 kB 4.3 MB/s eta 0:00:01\r\u001b[K     |████████████                    | 583 kB 4.3 MB/s eta 0:00:01\r\u001b[K     |████████████▎                   | 593 kB 4.3 MB/s eta 0:00:01\r\u001b[K     |████████████▌                   | 604 kB 4.3 MB/s eta 0:00:01\r\u001b[K     |████████████▊                   | 614 kB 4.3 MB/s eta 0:00:01\r\u001b[K     |█████████████                   | 624 kB 4.3 MB/s eta 0:00:01\r\u001b[K     |█████████████▏                  | 634 kB 4.3 MB/s eta 0:00:01\r\u001b[K     |█████████████▍                  | 645 kB 4.3 MB/s eta 0:00:01\r\u001b[K     |█████████████▋                  | 655 kB 4.3 MB/s eta 0:00:01\r\u001b[K     |█████████████▊                  | 665 kB 4.3 MB/s eta 0:00:01\r\u001b[K     |██████████████                  | 675 kB 4.3 MB/s eta 0:00:01\r\u001b[K     |██████████████▏                 | 686 kB 4.3 MB/s eta 0:00:01\r\u001b[K     |██████████████▍                 | 696 kB 4.3 MB/s eta 0:00:01\r\u001b[K     |██████████████▋                 | 706 kB 4.3 MB/s eta 0:00:01\r\u001b[K     |██████████████▉                 | 716 kB 4.3 MB/s eta 0:00:01\r\u001b[K     |███████████████                 | 727 kB 4.3 MB/s eta 0:00:01\r\u001b[K     |███████████████▎                | 737 kB 4.3 MB/s eta 0:00:01\r\u001b[K     |███████████████▌                | 747 kB 4.3 MB/s eta 0:00:01\r\u001b[K     |███████████████▊                | 757 kB 4.3 MB/s eta 0:00:01\r\u001b[K     |████████████████                | 768 kB 4.3 MB/s eta 0:00:01\r\u001b[K     |████████████████                | 778 kB 4.3 MB/s eta 0:00:01\r\u001b[K     |████████████████▎               | 788 kB 4.3 MB/s eta 0:00:01\r\u001b[K     |████████████████▌               | 798 kB 4.3 MB/s eta 0:00:01\r\u001b[K     |████████████████▊               | 808 kB 4.3 MB/s eta 0:00:01\r\u001b[K     |█████████████████               | 819 kB 4.3 MB/s eta 0:00:01\r\u001b[K     |█████████████████▏              | 829 kB 4.3 MB/s eta 0:00:01\r\u001b[K     |█████████████████▍              | 839 kB 4.3 MB/s eta 0:00:01\r\u001b[K     |█████████████████▋              | 849 kB 4.3 MB/s eta 0:00:01\r\u001b[K     |█████████████████▉              | 860 kB 4.3 MB/s eta 0:00:01\r\u001b[K     |██████████████████              | 870 kB 4.3 MB/s eta 0:00:01\r\u001b[K     |██████████████████▏             | 880 kB 4.3 MB/s eta 0:00:01\r\u001b[K     |██████████████████▍             | 890 kB 4.3 MB/s eta 0:00:01\r\u001b[K     |██████████████████▋             | 901 kB 4.3 MB/s eta 0:00:01\r\u001b[K     |██████████████████▉             | 911 kB 4.3 MB/s eta 0:00:01\r\u001b[K     |███████████████████             | 921 kB 4.3 MB/s eta 0:00:01\r\u001b[K     |███████████████████▎            | 931 kB 4.3 MB/s eta 0:00:01\r\u001b[K     |███████████████████▌            | 942 kB 4.3 MB/s eta 0:00:01\r\u001b[K     |███████████████████▊            | 952 kB 4.3 MB/s eta 0:00:01\r\u001b[K     |████████████████████            | 962 kB 4.3 MB/s eta 0:00:01\r\u001b[K     |████████████████████▏           | 972 kB 4.3 MB/s eta 0:00:01\r\u001b[K     |████████████████████▍           | 983 kB 4.3 MB/s eta 0:00:01\r\u001b[K     |████████████████████▌           | 993 kB 4.3 MB/s eta 0:00:01\r\u001b[K     |████████████████████▊           | 1.0 MB 4.3 MB/s eta 0:00:01\r\u001b[K     |█████████████████████           | 1.0 MB 4.3 MB/s eta 0:00:01\r\u001b[K     |█████████████████████▏          | 1.0 MB 4.3 MB/s eta 0:00:01\r\u001b[K     |█████████████████████▍          | 1.0 MB 4.3 MB/s eta 0:00:01\r\u001b[K     |█████████████████████▋          | 1.0 MB 4.3 MB/s eta 0:00:01\r\u001b[K     |█████████████████████▉          | 1.1 MB 4.3 MB/s eta 0:00:01\r\u001b[K     |██████████████████████          | 1.1 MB 4.3 MB/s eta 0:00:01\r\u001b[K     |██████████████████████▎         | 1.1 MB 4.3 MB/s eta 0:00:01\r\u001b[K     |██████████████████████▌         | 1.1 MB 4.3 MB/s eta 0:00:01\r\u001b[K     |██████████████████████▊         | 1.1 MB 4.3 MB/s eta 0:00:01\r\u001b[K     |██████████████████████▉         | 1.1 MB 4.3 MB/s eta 0:00:01\r\u001b[K     |███████████████████████         | 1.1 MB 4.3 MB/s eta 0:00:01\r\u001b[K     |███████████████████████▎        | 1.1 MB 4.3 MB/s eta 0:00:01\r\u001b[K     |███████████████████████▌        | 1.1 MB 4.3 MB/s eta 0:00:01\r\u001b[K     |███████████████████████▊        | 1.1 MB 4.3 MB/s eta 0:00:01\r\u001b[K     |████████████████████████        | 1.2 MB 4.3 MB/s eta 0:00:01\r\u001b[K     |████████████████████████▏       | 1.2 MB 4.3 MB/s eta 0:00:01\r\u001b[K     |████████████████████████▍       | 1.2 MB 4.3 MB/s eta 0:00:01\r\u001b[K     |████████████████████████▋       | 1.2 MB 4.3 MB/s eta 0:00:01\r\u001b[K     |████████████████████████▉       | 1.2 MB 4.3 MB/s eta 0:00:01\r\u001b[K     |█████████████████████████       | 1.2 MB 4.3 MB/s eta 0:00:01\r\u001b[K     |█████████████████████████▏      | 1.2 MB 4.3 MB/s eta 0:00:01\r\u001b[K     |█████████████████████████▍      | 1.2 MB 4.3 MB/s eta 0:00:01\r\u001b[K     |█████████████████████████▋      | 1.2 MB 4.3 MB/s eta 0:00:01\r\u001b[K     |█████████████████████████▉      | 1.2 MB 4.3 MB/s eta 0:00:01\r\u001b[K     |██████████████████████████      | 1.3 MB 4.3 MB/s eta 0:00:01\r\u001b[K     |██████████████████████████▎     | 1.3 MB 4.3 MB/s eta 0:00:01\r\u001b[K     |██████████████████████████▌     | 1.3 MB 4.3 MB/s eta 0:00:01\r\u001b[K     |██████████████████████████▊     | 1.3 MB 4.3 MB/s eta 0:00:01\r\u001b[K     |███████████████████████████     | 1.3 MB 4.3 MB/s eta 0:00:01\r\u001b[K     |███████████████████████████▏    | 1.3 MB 4.3 MB/s eta 0:00:01\r\u001b[K     |███████████████████████████▎    | 1.3 MB 4.3 MB/s eta 0:00:01\r\u001b[K     |███████████████████████████▌    | 1.3 MB 4.3 MB/s eta 0:00:01\r\u001b[K     |███████████████████████████▊    | 1.3 MB 4.3 MB/s eta 0:00:01\r\u001b[K     |████████████████████████████    | 1.4 MB 4.3 MB/s eta 0:00:01\r\u001b[K     |████████████████████████████▏   | 1.4 MB 4.3 MB/s eta 0:00:01\r\u001b[K     |████████████████████████████▍   | 1.4 MB 4.3 MB/s eta 0:00:01\r\u001b[K     |████████████████████████████▋   | 1.4 MB 4.3 MB/s eta 0:00:01\r\u001b[K     |████████████████████████████▉   | 1.4 MB 4.3 MB/s eta 0:00:01\r\u001b[K     |█████████████████████████████   | 1.4 MB 4.3 MB/s eta 0:00:01\r\u001b[K     |█████████████████████████████▎  | 1.4 MB 4.3 MB/s eta 0:00:01\r\u001b[K     |█████████████████████████████▌  | 1.4 MB 4.3 MB/s eta 0:00:01\r\u001b[K     |█████████████████████████████▋  | 1.4 MB 4.3 MB/s eta 0:00:01\r\u001b[K     |█████████████████████████████▉  | 1.4 MB 4.3 MB/s eta 0:00:01\r\u001b[K     |██████████████████████████████  | 1.5 MB 4.3 MB/s eta 0:00:01\r\u001b[K     |██████████████████████████████▎ | 1.5 MB 4.3 MB/s eta 0:00:01\r\u001b[K     |██████████████████████████████▌ | 1.5 MB 4.3 MB/s eta 0:00:01\r\u001b[K     |██████████████████████████████▊ | 1.5 MB 4.3 MB/s eta 0:00:01\r\u001b[K     |███████████████████████████████ | 1.5 MB 4.3 MB/s eta 0:00:01\r\u001b[K     |███████████████████████████████▏| 1.5 MB 4.3 MB/s eta 0:00:01\r\u001b[K     |███████████████████████████████▍| 1.5 MB 4.3 MB/s eta 0:00:01\r\u001b[K     |███████████████████████████████▋| 1.5 MB 4.3 MB/s eta 0:00:01\r\u001b[K     |███████████████████████████████▉| 1.5 MB 4.3 MB/s eta 0:00:01\r\u001b[K     |████████████████████████████████| 1.5 MB 4.3 MB/s eta 0:00:01\r\u001b[K     |████████████████████████████████| 1.5 MB 4.3 MB/s \n",
            "\u001b[?25h  Installing build dependencies ... \u001b[?25l\u001b[?25hdone\n",
            "  Getting requirements to build wheel ... \u001b[?25l\u001b[?25hdone\n",
            "    Preparing wheel metadata ... \u001b[?25l\u001b[?25hdone\n",
            "Requirement already satisfied: numpy in /usr/local/lib/python3.7/dist-packages (from slycot) (1.19.5)\n",
            "Building wheels for collected packages: slycot\n",
            "  Building wheel for slycot (PEP 517) ... \u001b[?25l\u001b[?25hdone\n",
            "  Created wheel for slycot: filename=slycot-0.4.0-cp37-cp37m-linux_x86_64.whl size=1417931 sha256=7eb772ff7211ce243a1db1b0836784944af52e05cb8f857798fcf35e78cd3a73\n",
            "  Stored in directory: /root/.cache/pip/wheels/fa/b2/19/1e6568896fbabaf2a03d2fb6575211d281afcb9e00ce026cf6\n",
            "Successfully built slycot\n",
            "Installing collected packages: slycot\n",
            "Successfully installed slycot-0.4.0\n",
            "Collecting control\n",
            "  Downloading control-0.9.0.tar.gz (339 kB)\n",
            "\u001b[K     |████████████████████████████████| 339 kB 4.3 MB/s \n",
            "\u001b[?25hRequirement already satisfied: numpy in /usr/local/lib/python3.7/dist-packages (from control) (1.19.5)\n",
            "Requirement already satisfied: scipy in /usr/local/lib/python3.7/dist-packages (from control) (1.4.1)\n",
            "Requirement already satisfied: matplotlib in /usr/local/lib/python3.7/dist-packages (from control) (3.2.2)\n",
            "Requirement already satisfied: cycler>=0.10 in /usr/local/lib/python3.7/dist-packages (from matplotlib->control) (0.11.0)\n",
            "Requirement already satisfied: kiwisolver>=1.0.1 in /usr/local/lib/python3.7/dist-packages (from matplotlib->control) (1.3.2)\n",
            "Requirement already satisfied: python-dateutil>=2.1 in /usr/local/lib/python3.7/dist-packages (from matplotlib->control) (2.8.2)\n",
            "Requirement already satisfied: pyparsing!=2.0.4,!=2.1.2,!=2.1.6,>=2.0.1 in /usr/local/lib/python3.7/dist-packages (from matplotlib->control) (3.0.6)\n",
            "Requirement already satisfied: six>=1.5 in /usr/local/lib/python3.7/dist-packages (from python-dateutil>=2.1->matplotlib->control) (1.15.0)\n",
            "Building wheels for collected packages: control\n",
            "  Building wheel for control (setup.py) ... \u001b[?25l\u001b[?25hdone\n",
            "  Created wheel for control: filename=control-0.9.0-py2.py3-none-any.whl size=344928 sha256=b2bf0d5708b4e040108f5980a05f90e5c57d264cb44d1b171988eb31162a1fa4\n",
            "  Stored in directory: /root/.cache/pip/wheels/5b/64/54/70faad181d7baff1184541ca00c9a2efa633acd0a811831d30\n",
            "Successfully built control\n",
            "Installing collected packages: control\n",
            "Successfully installed control-0.9.0\n"
          ]
        }
      ]
    },
    {
      "cell_type": "code",
      "metadata": {
        "id": "p3eZ4hgVEvuj"
      },
      "source": [
        "# Importação das bibliotecas necessárias\n",
        "import pandas as pd     \n",
        "import numpy as np\n",
        "from scipy import signal as sig\n",
        "import matplotlib.pyplot as plt \n",
        "from scipy import optimize as opt\n",
        "import seaborn as sns\n",
        "from control.matlab import *\n",
        "import sympy"
      ],
      "execution_count": null,
      "outputs": []
    },
    {
      "cell_type": "markdown",
      "metadata": {
        "id": "bPf-C9OGjsWU"
      },
      "source": [
        "#Funções de Transferência"
      ]
    },
    {
      "cell_type": "markdown",
      "metadata": {
        "id": "u4QLE2ArTrxQ"
      },
      "source": [
        "Inicialmente é necessário realizar uma coleta dos dados gerados pelos encoders dos motores para ser possivel levantar a função de transferencia deles.\n",
        "Nesse caso foi utilizado um robô omnidirecional com três motores"
      ]
    },
    {
      "cell_type": "markdown",
      "metadata": {
        "id": "fsd9qpgeyGzH"
      },
      "source": [
        "##Dados"
      ]
    },
    {
      "cell_type": "markdown",
      "metadata": {
        "id": "CQibb2BOkEL6"
      },
      "source": [
        "Para que seja possivel cobrir um maior espectro do comportamento dos motores e assim dimensionar uma função de transferência mais ajustada foram coletados dados de tempo e posição dos motores em 3 configurações diferentes e com duas entradas diferentes uma entrada 200 pwm e uma de -200 pwm.\n",
        "\n",
        "Os dados coletados foram salvos em um arquivo txt e foram inportados em DataFrames\n"
      ]
    },
    {
      "cell_type": "code",
      "metadata": {
        "id": "gXQkdKIXE4oM"
      },
      "source": [
        "# Leitura dos arquivos de dados\n",
        "DF1 = pd.read_csv('/content/drive/MyDrive/Motores Robô Omni/dataM1M2.txt', sep=\";\",header=None) #arquivo que será lido\n",
        "DF1.columns = [\"i\",\"Motor1\",\"Motor2\",\"Motor3\",\"Time\"] #nomeando as colunas\n",
        "DF2 = pd.read_csv('/content/drive/MyDrive/Motores Robô Omni/dataM1M3.txt', sep=\";\",header=None)\n",
        "DF2.columns = [\"i\",\"Motor1\",\"Motor2\",\"Motor3\",\"Time\"]\n",
        "DF3 = pd.read_csv('/content/drive/MyDrive/Motores Robô Omni/dataM2M3.txt', sep=\";\",header=None)\n",
        "DF3.columns = [\"i\",\"Motor1\",\"Motor2\",\"Motor3\",\"Time\"]"
      ],
      "execution_count": null,
      "outputs": []
    },
    {
      "cell_type": "markdown",
      "metadata": {
        "id": "2GN4UlmHxLY_"
      },
      "source": [
        "Nas colunas **Motor 1**, **Motor 2** e **Motor 3** são apresentados os dados coletados dos pulsos dados nos encoderes em cada uma das coletas. À partir desses arquivos, forma criados Data Frames com índice, leituras de cada motor e o tempo. \n"
      ]
    },
    {
      "cell_type": "code",
      "metadata": {
        "colab": {
          "base_uri": "https://localhost:8080/"
        },
        "id": "ZjGEv0gJxM7K",
        "outputId": "be5195ee-29c6-4b5c-9447-6f586937b096"
      },
      "source": [
        "print(DF1.head())"
      ],
      "execution_count": null,
      "outputs": [
        {
          "output_type": "stream",
          "name": "stdout",
          "text": [
            "     i  Motor1  Motor2  Motor3  Time\n",
            "0  000    26.0   -50.0     0.0  11.0\n",
            "1  001    80.0  -114.0     0.0  22.0\n",
            "2  002   150.0  -180.0     0.0  33.0\n",
            "3  003   213.0  -235.0     0.0  44.0\n",
            "4  004   285.0  -296.0     0.0  55.0\n"
          ]
        }
      ]
    },
    {
      "cell_type": "markdown",
      "metadata": {
        "id": "LlvCaw1j8fBX"
      },
      "source": [
        " Em cada um deles, foram retiradas as linhas com valores zero e a última linha, a qual possuía apenas o caractere de parada (#) inserido pelo programa do arduino. Além disso, foi inserida uma linha apenas com zeros no final da lista e, com a reorganização dos índices, tornou-se a primeira para possibilitar o cálculo das velocidade utilizando uma regressão de dois pontos."
      ]
    },
    {
      "cell_type": "code",
      "metadata": {
        "id": "lxXCWrTp54mN"
      },
      "source": [
        "#Formatação DataFrames\n",
        "DF1 = DF1.query('Motor1 != 0 and i != \"#\"') #retira a última linha (contém apenas um '#') e a linha do meio, a qual possui apenas valores nulos (inversão de sentido do robô)\n",
        "DF1 = DF1.drop(labels='i',axis=1) #exclui a primeira coluna (contagem de dados), utilizaremos o índice dado pelo data frame\n",
        "DF1.loc[-1] = [0,0,0,0] #insere uma linha só com valores nulos no final do data frame\n",
        "DF1.index = DF1.index + 1 #para trocar o índice -1 da linha adicionada para zero e manter a sequência numérica\n",
        "DF1 = DF1.sort_index() #organiza os índices em ordem numérica (progressiva)\n",
        "DF1.index = range(0,len(DF1)) #renumera os índices (compensa a retirada do índice 200 e inserção da linha nula)\n",
        "DF1['Time'] = DF1['Time']/1000\n",
        "\n",
        "DF2 = DF2.query('Motor1 != 0 and i != \"#\"')\n",
        "DF2 = DF2.drop(labels='i',axis=1)\n",
        "DF2.loc[-1] = [0,0,0,0] \n",
        "DF2.index = DF2.index + 1\n",
        "DF2 = DF2.sort_index() \n",
        "DF2.index = range(0,len(DF2))\n",
        "DF2['Time'] = DF2['Time']/1000\n",
        "\n",
        "DF3 = DF3.query('Motor3 != 0 and i != \"#\"') #Motor1 não pode ser usado como parâmetro, pois ele não foi lido nesse conjunto de dados\n",
        "DF3 = DF3.drop(labels='i',axis=1)\n",
        "DF3.loc[-1] = [0,0,0,0] \n",
        "DF3.index = DF3.index + 1\n",
        "DF3 = DF3.sort_index() \n",
        "DF3.index = range(0,len(DF3))\n",
        "DF3['Time'] = DF3['Time']/1000\n"
      ],
      "execution_count": null,
      "outputs": []
    },
    {
      "cell_type": "code",
      "metadata": {
        "colab": {
          "base_uri": "https://localhost:8080/",
          "height": 423
        },
        "id": "-AroYwDEGmeP",
        "outputId": "9aa3d50d-2d69-48ce-9215-f2160ad750b9"
      },
      "source": [
        "DF1"
      ],
      "execution_count": null,
      "outputs": [
        {
          "output_type": "execute_result",
          "data": {
            "text/html": [
              "<div>\n",
              "<style scoped>\n",
              "    .dataframe tbody tr th:only-of-type {\n",
              "        vertical-align: middle;\n",
              "    }\n",
              "\n",
              "    .dataframe tbody tr th {\n",
              "        vertical-align: top;\n",
              "    }\n",
              "\n",
              "    .dataframe thead th {\n",
              "        text-align: right;\n",
              "    }\n",
              "</style>\n",
              "<table border=\"1\" class=\"dataframe\">\n",
              "  <thead>\n",
              "    <tr style=\"text-align: right;\">\n",
              "      <th></th>\n",
              "      <th>Motor1</th>\n",
              "      <th>Motor2</th>\n",
              "      <th>Motor3</th>\n",
              "      <th>Time</th>\n",
              "    </tr>\n",
              "  </thead>\n",
              "  <tbody>\n",
              "    <tr>\n",
              "      <th>0</th>\n",
              "      <td>0.0</td>\n",
              "      <td>0.0</td>\n",
              "      <td>0.0</td>\n",
              "      <td>0.000</td>\n",
              "    </tr>\n",
              "    <tr>\n",
              "      <th>1</th>\n",
              "      <td>26.0</td>\n",
              "      <td>-50.0</td>\n",
              "      <td>0.0</td>\n",
              "      <td>0.011</td>\n",
              "    </tr>\n",
              "    <tr>\n",
              "      <th>2</th>\n",
              "      <td>80.0</td>\n",
              "      <td>-114.0</td>\n",
              "      <td>0.0</td>\n",
              "      <td>0.022</td>\n",
              "    </tr>\n",
              "    <tr>\n",
              "      <th>3</th>\n",
              "      <td>150.0</td>\n",
              "      <td>-180.0</td>\n",
              "      <td>0.0</td>\n",
              "      <td>0.033</td>\n",
              "    </tr>\n",
              "    <tr>\n",
              "      <th>4</th>\n",
              "      <td>213.0</td>\n",
              "      <td>-235.0</td>\n",
              "      <td>0.0</td>\n",
              "      <td>0.044</td>\n",
              "    </tr>\n",
              "    <tr>\n",
              "      <th>...</th>\n",
              "      <td>...</td>\n",
              "      <td>...</td>\n",
              "      <td>...</td>\n",
              "      <td>...</td>\n",
              "    </tr>\n",
              "    <tr>\n",
              "      <th>394</th>\n",
              "      <td>4332.0</td>\n",
              "      <td>-4624.0</td>\n",
              "      <td>-17.0</td>\n",
              "      <td>4.347</td>\n",
              "    </tr>\n",
              "    <tr>\n",
              "      <th>395</th>\n",
              "      <td>4149.0</td>\n",
              "      <td>-4442.0</td>\n",
              "      <td>-17.0</td>\n",
              "      <td>4.358</td>\n",
              "    </tr>\n",
              "    <tr>\n",
              "      <th>396</th>\n",
              "      <td>3949.0</td>\n",
              "      <td>-4243.0</td>\n",
              "      <td>-17.0</td>\n",
              "      <td>4.369</td>\n",
              "    </tr>\n",
              "    <tr>\n",
              "      <th>397</th>\n",
              "      <td>3751.0</td>\n",
              "      <td>-4042.0</td>\n",
              "      <td>-17.0</td>\n",
              "      <td>4.380</td>\n",
              "    </tr>\n",
              "    <tr>\n",
              "      <th>398</th>\n",
              "      <td>3554.0</td>\n",
              "      <td>-3842.0</td>\n",
              "      <td>-17.0</td>\n",
              "      <td>4.391</td>\n",
              "    </tr>\n",
              "  </tbody>\n",
              "</table>\n",
              "<p>399 rows × 4 columns</p>\n",
              "</div>"
            ],
            "text/plain": [
              "     Motor1  Motor2  Motor3   Time\n",
              "0       0.0     0.0     0.0  0.000\n",
              "1      26.0   -50.0     0.0  0.011\n",
              "2      80.0  -114.0     0.0  0.022\n",
              "3     150.0  -180.0     0.0  0.033\n",
              "4     213.0  -235.0     0.0  0.044\n",
              "..      ...     ...     ...    ...\n",
              "394  4332.0 -4624.0   -17.0  4.347\n",
              "395  4149.0 -4442.0   -17.0  4.358\n",
              "396  3949.0 -4243.0   -17.0  4.369\n",
              "397  3751.0 -4042.0   -17.0  4.380\n",
              "398  3554.0 -3842.0   -17.0  4.391\n",
              "\n",
              "[399 rows x 4 columns]"
            ]
          },
          "metadata": {},
          "execution_count": 7
        }
      ]
    },
    {
      "cell_type": "markdown",
      "metadata": {
        "id": "FbYLSV565bEJ"
      },
      "source": [
        "Após formatação dos DataFrames, foi necessário o calculo da velocidade de cada um dos motores, já que iremos fazer o controle da velocidade.  O cálculo da velocidade de cada instante deu-se através da subtração do valor do motor atual pelo anterior dividido pelo tempo, o qual foi calculado através do mesmo método (v = [Mi - M(i-1)] / [ti - t(i-1)])\n"
      ]
    },
    {
      "cell_type": "code",
      "metadata": {
        "id": "k_4Ext1QrjXe"
      },
      "source": [
        "#Calculo da velociade em rot/s\n",
        "for i in DF1.index:\n",
        "  if i != 0:\n",
        "    DF1.loc[i,\"Vel1\"] = ((DF1.loc[i,\"Motor1\"] - DF1.loc[i-1,\"Motor1\"])/5280)/ (DF1.loc[i,\"Time\"] - DF1.loc[i-1,\"Time\"]) #v = Delta p/ Delta t\n",
        "    DF1.loc[i,\"Vel2\"] = ((DF1.loc[i,\"Motor2\"] - DF1.loc[i-1,\"Motor2\"])/5280)/ (DF1.loc[i,\"Time\"] - DF1.loc[i-1,\"Time\"])\n",
        "    DF1.loc[i,\"Vel3\"] = ((DF1.loc[i,\"Motor3\"] - DF1.loc[i-1,\"Motor3\"])/5280)/ (DF1.loc[i,\"Time\"] - DF1.loc[i-1,\"Time\"])\n",
        "  else:\n",
        "    DF1.loc[i,\"Vel1\"] = 0 #primeiras linhas não têm linhas anteriores para calcular a velocidade\n",
        "    DF1.loc[i,\"Vel2\"] = 0\n",
        "    DF1.loc[i,\"Vel3\"] = 0\n",
        "\n",
        "for i in DF2.index:\n",
        "  if i != 0:\n",
        "    DF2.loc[i,\"Vel1\"] = ((DF2.loc[i,\"Motor1\"] - DF2.loc[i-1,\"Motor1\"])/5280)/ (DF2.loc[i,\"Time\"] - DF2.loc[i-1,\"Time\"])\n",
        "    DF2.loc[i,\"Vel2\"] = ((DF2.loc[i,\"Motor2\"] - DF2.loc[i-1,\"Motor2\"])/5280)/ (DF2.loc[i,\"Time\"] - DF2.loc[i-1,\"Time\"])\n",
        "    DF2.loc[i,\"Vel3\"] = ((DF2.loc[i,\"Motor3\"] - DF2.loc[i-1,\"Motor3\"])/5280)/ (DF2.loc[i,\"Time\"] - DF2.loc[i-1,\"Time\"])\n",
        "  else:\n",
        "    DF2.loc[i,\"Vel1\"] = 0\n",
        "    DF2.loc[i,\"Vel2\"] = 0\n",
        "    DF2.loc[i,\"Vel3\"] = 0\n",
        "\n",
        "for i in DF3.index:\n",
        "  if i != 0:\n",
        "    DF3.loc[i,\"Vel1\"] = ((DF3.loc[i,\"Motor1\"] - DF3.loc[i-1,\"Motor1\"])/5280)/ (DF3.loc[i,\"Time\"] - DF3.loc[i-1,\"Time\"])\n",
        "    DF3.loc[i,\"Vel2\"] = ((DF3.loc[i,\"Motor2\"] - DF3.loc[i-1,\"Motor2\"])/5280)/ (DF3.loc[i,\"Time\"] - DF3.loc[i-1,\"Time\"])\n",
        "    DF3.loc[i,\"Vel3\"] = ((DF3.loc[i,\"Motor3\"] - DF3.loc[i-1,\"Motor3\"])/5280)/ (DF3.loc[i,\"Time\"] - DF3.loc[i-1,\"Time\"])\n",
        "  else:\n",
        "    DF3.loc[i,\"Vel1\"] = 0\n",
        "    DF3.loc[i,\"Vel2\"] = 0\n",
        "    DF3.loc[i,\"Vel3\"] = 0"
      ],
      "execution_count": null,
      "outputs": []
    },
    {
      "cell_type": "code",
      "metadata": {
        "colab": {
          "base_uri": "https://localhost:8080/",
          "height": 423
        },
        "id": "wuee5vkplz21",
        "outputId": "82f732c6-8be1-44b0-ed38-f3b70bae87ce"
      },
      "source": [
        "DF1"
      ],
      "execution_count": null,
      "outputs": [
        {
          "output_type": "execute_result",
          "data": {
            "text/html": [
              "<div>\n",
              "<style scoped>\n",
              "    .dataframe tbody tr th:only-of-type {\n",
              "        vertical-align: middle;\n",
              "    }\n",
              "\n",
              "    .dataframe tbody tr th {\n",
              "        vertical-align: top;\n",
              "    }\n",
              "\n",
              "    .dataframe thead th {\n",
              "        text-align: right;\n",
              "    }\n",
              "</style>\n",
              "<table border=\"1\" class=\"dataframe\">\n",
              "  <thead>\n",
              "    <tr style=\"text-align: right;\">\n",
              "      <th></th>\n",
              "      <th>Motor1</th>\n",
              "      <th>Motor2</th>\n",
              "      <th>Motor3</th>\n",
              "      <th>Time</th>\n",
              "      <th>Vel1</th>\n",
              "      <th>Vel2</th>\n",
              "      <th>Vel3</th>\n",
              "    </tr>\n",
              "  </thead>\n",
              "  <tbody>\n",
              "    <tr>\n",
              "      <th>0</th>\n",
              "      <td>0.0</td>\n",
              "      <td>0.0</td>\n",
              "      <td>0.0</td>\n",
              "      <td>0.000</td>\n",
              "      <td>0.000000</td>\n",
              "      <td>0.000000</td>\n",
              "      <td>0.0</td>\n",
              "    </tr>\n",
              "    <tr>\n",
              "      <th>1</th>\n",
              "      <td>26.0</td>\n",
              "      <td>-50.0</td>\n",
              "      <td>0.0</td>\n",
              "      <td>0.011</td>\n",
              "      <td>0.447658</td>\n",
              "      <td>-0.860882</td>\n",
              "      <td>0.0</td>\n",
              "    </tr>\n",
              "    <tr>\n",
              "      <th>2</th>\n",
              "      <td>80.0</td>\n",
              "      <td>-114.0</td>\n",
              "      <td>0.0</td>\n",
              "      <td>0.022</td>\n",
              "      <td>0.929752</td>\n",
              "      <td>-1.101928</td>\n",
              "      <td>0.0</td>\n",
              "    </tr>\n",
              "    <tr>\n",
              "      <th>3</th>\n",
              "      <td>150.0</td>\n",
              "      <td>-180.0</td>\n",
              "      <td>0.0</td>\n",
              "      <td>0.033</td>\n",
              "      <td>1.205234</td>\n",
              "      <td>-1.136364</td>\n",
              "      <td>0.0</td>\n",
              "    </tr>\n",
              "    <tr>\n",
              "      <th>4</th>\n",
              "      <td>213.0</td>\n",
              "      <td>-235.0</td>\n",
              "      <td>0.0</td>\n",
              "      <td>0.044</td>\n",
              "      <td>1.084711</td>\n",
              "      <td>-0.946970</td>\n",
              "      <td>0.0</td>\n",
              "    </tr>\n",
              "    <tr>\n",
              "      <th>...</th>\n",
              "      <td>...</td>\n",
              "      <td>...</td>\n",
              "      <td>...</td>\n",
              "      <td>...</td>\n",
              "      <td>...</td>\n",
              "      <td>...</td>\n",
              "      <td>...</td>\n",
              "    </tr>\n",
              "    <tr>\n",
              "      <th>394</th>\n",
              "      <td>4332.0</td>\n",
              "      <td>-4624.0</td>\n",
              "      <td>-17.0</td>\n",
              "      <td>4.347</td>\n",
              "      <td>-3.357438</td>\n",
              "      <td>3.374656</td>\n",
              "      <td>0.0</td>\n",
              "    </tr>\n",
              "    <tr>\n",
              "      <th>395</th>\n",
              "      <td>4149.0</td>\n",
              "      <td>-4442.0</td>\n",
              "      <td>-17.0</td>\n",
              "      <td>4.358</td>\n",
              "      <td>-3.150826</td>\n",
              "      <td>3.133609</td>\n",
              "      <td>0.0</td>\n",
              "    </tr>\n",
              "    <tr>\n",
              "      <th>396</th>\n",
              "      <td>3949.0</td>\n",
              "      <td>-4243.0</td>\n",
              "      <td>-17.0</td>\n",
              "      <td>4.369</td>\n",
              "      <td>-3.443526</td>\n",
              "      <td>3.426309</td>\n",
              "      <td>0.0</td>\n",
              "    </tr>\n",
              "    <tr>\n",
              "      <th>397</th>\n",
              "      <td>3751.0</td>\n",
              "      <td>-4042.0</td>\n",
              "      <td>-17.0</td>\n",
              "      <td>4.380</td>\n",
              "      <td>-3.409091</td>\n",
              "      <td>3.460744</td>\n",
              "      <td>0.0</td>\n",
              "    </tr>\n",
              "    <tr>\n",
              "      <th>398</th>\n",
              "      <td>3554.0</td>\n",
              "      <td>-3842.0</td>\n",
              "      <td>-17.0</td>\n",
              "      <td>4.391</td>\n",
              "      <td>-3.391873</td>\n",
              "      <td>3.443526</td>\n",
              "      <td>0.0</td>\n",
              "    </tr>\n",
              "  </tbody>\n",
              "</table>\n",
              "<p>399 rows × 7 columns</p>\n",
              "</div>"
            ],
            "text/plain": [
              "     Motor1  Motor2  Motor3   Time      Vel1      Vel2  Vel3\n",
              "0       0.0     0.0     0.0  0.000  0.000000  0.000000   0.0\n",
              "1      26.0   -50.0     0.0  0.011  0.447658 -0.860882   0.0\n",
              "2      80.0  -114.0     0.0  0.022  0.929752 -1.101928   0.0\n",
              "3     150.0  -180.0     0.0  0.033  1.205234 -1.136364   0.0\n",
              "4     213.0  -235.0     0.0  0.044  1.084711 -0.946970   0.0\n",
              "..      ...     ...     ...    ...       ...       ...   ...\n",
              "394  4332.0 -4624.0   -17.0  4.347 -3.357438  3.374656   0.0\n",
              "395  4149.0 -4442.0   -17.0  4.358 -3.150826  3.133609   0.0\n",
              "396  3949.0 -4243.0   -17.0  4.369 -3.443526  3.426309   0.0\n",
              "397  3751.0 -4042.0   -17.0  4.380 -3.409091  3.460744   0.0\n",
              "398  3554.0 -3842.0   -17.0  4.391 -3.391873  3.443526   0.0\n",
              "\n",
              "[399 rows x 7 columns]"
            ]
          },
          "metadata": {},
          "execution_count": 9
        }
      ]
    },
    {
      "cell_type": "code",
      "metadata": {
        "id": "7-PCqIEFNqEA"
      },
      "source": [
        "#Acrescimo das entradas (3 novas colunas em cada DF)\n",
        "for i in range(0,200):\n",
        "  DF1.loc[i,\"U1\"] = 200\n",
        "  DF1.loc[i,\"U2\"] = -200\n",
        "  DF1.loc[i,\"U3\"] = 0\n",
        "\n",
        "  DF2.loc[i,\"U1\"] = 200\n",
        "  DF2.loc[i,\"U2\"] = 0\n",
        "  DF2.loc[i,\"U3\"] = -200\n",
        "\n",
        "  DF3.loc[i,\"U1\"] = 0\n",
        "  DF3.loc[i,\"U2\"] = -200\n",
        "  DF3.loc[i,\"U3\"] = 200\n",
        "\n",
        "\n",
        "for i in range(200,399):\n",
        "  DF1.loc[i,\"U1\"] = -200\n",
        "  DF1.loc[i,\"U2\"] = 200\n",
        "  DF1.loc[i,\"U3\"] = 0\n",
        "\n",
        "  DF2.loc[i,\"U1\"] = -200\n",
        "  DF2.loc[i,\"U2\"] = 0\n",
        "  DF2.loc[i,\"U3\"] = 200\n",
        "\n",
        "  DF3.loc[i,\"U1\"] = 0\n",
        "  DF3.loc[i,\"U2\"] = 200\n",
        "  DF3.loc[i,\"U3\"] = -200"
      ],
      "execution_count": null,
      "outputs": []
    },
    {
      "cell_type": "markdown",
      "metadata": {
        "id": "4Ty6bdO78nUD"
      },
      "source": [
        "O próximo passo foi inserir mais três colunas, cada uma com os valores das respectivas entradas para cada motor em cada um dos três Data Frames (200, -200 ou 0). Em seguida, foram plotadas as velocidades em função do tempo para cada motor."
      ]
    },
    {
      "cell_type": "code",
      "metadata": {
        "colab": {
          "base_uri": "https://localhost:8080/",
          "height": 423
        },
        "id": "eMJ6CZS2GoCH",
        "outputId": "1e22a4ef-ddf5-4624-ac63-50dc23705cda"
      },
      "source": [
        "DF3"
      ],
      "execution_count": null,
      "outputs": [
        {
          "output_type": "execute_result",
          "data": {
            "text/html": [
              "<div>\n",
              "<style scoped>\n",
              "    .dataframe tbody tr th:only-of-type {\n",
              "        vertical-align: middle;\n",
              "    }\n",
              "\n",
              "    .dataframe tbody tr th {\n",
              "        vertical-align: top;\n",
              "    }\n",
              "\n",
              "    .dataframe thead th {\n",
              "        text-align: right;\n",
              "    }\n",
              "</style>\n",
              "<table border=\"1\" class=\"dataframe\">\n",
              "  <thead>\n",
              "    <tr style=\"text-align: right;\">\n",
              "      <th></th>\n",
              "      <th>Motor1</th>\n",
              "      <th>Motor2</th>\n",
              "      <th>Motor3</th>\n",
              "      <th>Time</th>\n",
              "      <th>Vel1</th>\n",
              "      <th>Vel2</th>\n",
              "      <th>Vel3</th>\n",
              "      <th>U1</th>\n",
              "      <th>U2</th>\n",
              "      <th>U3</th>\n",
              "    </tr>\n",
              "  </thead>\n",
              "  <tbody>\n",
              "    <tr>\n",
              "      <th>0</th>\n",
              "      <td>0.0</td>\n",
              "      <td>0.0</td>\n",
              "      <td>0.0</td>\n",
              "      <td>0.000</td>\n",
              "      <td>0.0</td>\n",
              "      <td>0.000000</td>\n",
              "      <td>0.000000</td>\n",
              "      <td>0.0</td>\n",
              "      <td>-200.0</td>\n",
              "      <td>200.0</td>\n",
              "    </tr>\n",
              "    <tr>\n",
              "      <th>1</th>\n",
              "      <td>0.0</td>\n",
              "      <td>-52.0</td>\n",
              "      <td>45.0</td>\n",
              "      <td>0.011</td>\n",
              "      <td>0.0</td>\n",
              "      <td>-0.895317</td>\n",
              "      <td>0.774793</td>\n",
              "      <td>0.0</td>\n",
              "      <td>-200.0</td>\n",
              "      <td>200.0</td>\n",
              "    </tr>\n",
              "    <tr>\n",
              "      <th>2</th>\n",
              "      <td>0.0</td>\n",
              "      <td>-120.0</td>\n",
              "      <td>95.0</td>\n",
              "      <td>0.022</td>\n",
              "      <td>0.0</td>\n",
              "      <td>-1.170799</td>\n",
              "      <td>0.860882</td>\n",
              "      <td>0.0</td>\n",
              "      <td>-200.0</td>\n",
              "      <td>200.0</td>\n",
              "    </tr>\n",
              "    <tr>\n",
              "      <th>3</th>\n",
              "      <td>0.0</td>\n",
              "      <td>-188.0</td>\n",
              "      <td>148.0</td>\n",
              "      <td>0.033</td>\n",
              "      <td>0.0</td>\n",
              "      <td>-1.170799</td>\n",
              "      <td>0.912534</td>\n",
              "      <td>0.0</td>\n",
              "      <td>-200.0</td>\n",
              "      <td>200.0</td>\n",
              "    </tr>\n",
              "    <tr>\n",
              "      <th>4</th>\n",
              "      <td>0.0</td>\n",
              "      <td>-250.0</td>\n",
              "      <td>197.0</td>\n",
              "      <td>0.044</td>\n",
              "      <td>0.0</td>\n",
              "      <td>-1.067493</td>\n",
              "      <td>0.843664</td>\n",
              "      <td>0.0</td>\n",
              "      <td>-200.0</td>\n",
              "      <td>200.0</td>\n",
              "    </tr>\n",
              "    <tr>\n",
              "      <th>...</th>\n",
              "      <td>...</td>\n",
              "      <td>...</td>\n",
              "      <td>...</td>\n",
              "      <td>...</td>\n",
              "      <td>...</td>\n",
              "      <td>...</td>\n",
              "      <td>...</td>\n",
              "      <td>...</td>\n",
              "      <td>...</td>\n",
              "      <td>...</td>\n",
              "    </tr>\n",
              "    <tr>\n",
              "      <th>394</th>\n",
              "      <td>64.0</td>\n",
              "      <td>-6223.0</td>\n",
              "      <td>3832.0</td>\n",
              "      <td>4.347</td>\n",
              "      <td>0.0</td>\n",
              "      <td>3.495179</td>\n",
              "      <td>-3.340220</td>\n",
              "      <td>0.0</td>\n",
              "      <td>200.0</td>\n",
              "      <td>-200.0</td>\n",
              "    </tr>\n",
              "    <tr>\n",
              "      <th>395</th>\n",
              "      <td>64.0</td>\n",
              "      <td>-6040.0</td>\n",
              "      <td>3658.0</td>\n",
              "      <td>4.358</td>\n",
              "      <td>0.0</td>\n",
              "      <td>3.150826</td>\n",
              "      <td>-2.995868</td>\n",
              "      <td>0.0</td>\n",
              "      <td>200.0</td>\n",
              "      <td>-200.0</td>\n",
              "    </tr>\n",
              "    <tr>\n",
              "      <th>396</th>\n",
              "      <td>64.0</td>\n",
              "      <td>-5844.0</td>\n",
              "      <td>3464.0</td>\n",
              "      <td>4.369</td>\n",
              "      <td>0.0</td>\n",
              "      <td>3.374656</td>\n",
              "      <td>-3.340220</td>\n",
              "      <td>0.0</td>\n",
              "      <td>200.0</td>\n",
              "      <td>-200.0</td>\n",
              "    </tr>\n",
              "    <tr>\n",
              "      <th>397</th>\n",
              "      <td>64.0</td>\n",
              "      <td>-5641.0</td>\n",
              "      <td>3272.0</td>\n",
              "      <td>4.380</td>\n",
              "      <td>0.0</td>\n",
              "      <td>3.495179</td>\n",
              "      <td>-3.305785</td>\n",
              "      <td>0.0</td>\n",
              "      <td>200.0</td>\n",
              "      <td>-200.0</td>\n",
              "    </tr>\n",
              "    <tr>\n",
              "      <th>398</th>\n",
              "      <td>64.0</td>\n",
              "      <td>-5443.0</td>\n",
              "      <td>3076.0</td>\n",
              "      <td>4.391</td>\n",
              "      <td>0.0</td>\n",
              "      <td>3.409091</td>\n",
              "      <td>-3.374656</td>\n",
              "      <td>0.0</td>\n",
              "      <td>200.0</td>\n",
              "      <td>-200.0</td>\n",
              "    </tr>\n",
              "  </tbody>\n",
              "</table>\n",
              "<p>399 rows × 10 columns</p>\n",
              "</div>"
            ],
            "text/plain": [
              "     Motor1  Motor2  Motor3   Time  Vel1      Vel2      Vel3   U1     U2     U3\n",
              "0       0.0     0.0     0.0  0.000   0.0  0.000000  0.000000  0.0 -200.0  200.0\n",
              "1       0.0   -52.0    45.0  0.011   0.0 -0.895317  0.774793  0.0 -200.0  200.0\n",
              "2       0.0  -120.0    95.0  0.022   0.0 -1.170799  0.860882  0.0 -200.0  200.0\n",
              "3       0.0  -188.0   148.0  0.033   0.0 -1.170799  0.912534  0.0 -200.0  200.0\n",
              "4       0.0  -250.0   197.0  0.044   0.0 -1.067493  0.843664  0.0 -200.0  200.0\n",
              "..      ...     ...     ...    ...   ...       ...       ...  ...    ...    ...\n",
              "394    64.0 -6223.0  3832.0  4.347   0.0  3.495179 -3.340220  0.0  200.0 -200.0\n",
              "395    64.0 -6040.0  3658.0  4.358   0.0  3.150826 -2.995868  0.0  200.0 -200.0\n",
              "396    64.0 -5844.0  3464.0  4.369   0.0  3.374656 -3.340220  0.0  200.0 -200.0\n",
              "397    64.0 -5641.0  3272.0  4.380   0.0  3.495179 -3.305785  0.0  200.0 -200.0\n",
              "398    64.0 -5443.0  3076.0  4.391   0.0  3.409091 -3.374656  0.0  200.0 -200.0\n",
              "\n",
              "[399 rows x 10 columns]"
            ]
          },
          "metadata": {},
          "execution_count": 11
        }
      ]
    },
    {
      "cell_type": "code",
      "metadata": {
        "colab": {
          "base_uri": "https://localhost:8080/",
          "height": 297
        },
        "id": "UqjUSrXiQUeW",
        "outputId": "3e12110f-4dd8-481d-bfc5-1af11952200c"
      },
      "source": [
        "#Dados de velocidade x tempo\n",
        "DF1.append(DF2,ignore_index=True).plot.scatter(x=\"Time\", y=[\"Vel1\"])"
      ],
      "execution_count": null,
      "outputs": [
        {
          "output_type": "execute_result",
          "data": {
            "text/plain": [
              "<matplotlib.axes._subplots.AxesSubplot at 0x7fc818c1be10>"
            ]
          },
          "metadata": {},
          "execution_count": 12
        },
        {
          "output_type": "display_data",
          "data": {
            "image/png": "[encoded data removed]",
            "text/plain": [
              "<Figure size 432x288 with 1 Axes>"
            ]
          },
          "metadata": {
            "needs_background": "light"
          }
        }
      ]
    },
    {
      "cell_type": "code",
      "metadata": {
        "colab": {
          "base_uri": "https://localhost:8080/",
          "height": 297
        },
        "id": "2LplUZQvrCfk",
        "outputId": "1b493312-5804-4696-e202-b948a6947640"
      },
      "source": [
        "#Dados de velocidade x tempo\n",
        "DF1.append(DF3,ignore_index=True).plot.scatter(x=\"Time\", y=[\"Vel2\"])"
      ],
      "execution_count": null,
      "outputs": [
        {
          "output_type": "execute_result",
          "data": {
            "text/plain": [
              "<matplotlib.axes._subplots.AxesSubplot at 0x7fc81785ee10>"
            ]
          },
          "metadata": {},
          "execution_count": 13
        },
        {
          "output_type": "display_data",
          "data": {
            "image/png": "[encoded data removed]",
            "text/plain": [
              "<Figure size 432x288 with 1 Axes>"
            ]
          },
          "metadata": {
            "needs_background": "light"
          }
        }
      ]
    },
    {
      "cell_type": "code",
      "metadata": {
        "colab": {
          "base_uri": "https://localhost:8080/",
          "height": 297
        },
        "id": "-8VCWvSHrDPc",
        "outputId": "d526fb00-27a2-48b4-c01c-15c6de784517"
      },
      "source": [
        "#Dados de velocidade x tempo\n",
        "\n",
        "DF2.append(DF3,ignore_index=True).plot.scatter(x=\"Time\", y=[\"Vel3\"])"
      ],
      "execution_count": null,
      "outputs": [
        {
          "output_type": "execute_result",
          "data": {
            "text/plain": [
              "<matplotlib.axes._subplots.AxesSubplot at 0x7fc817381750>"
            ]
          },
          "metadata": {},
          "execution_count": 14
        },
        {
          "output_type": "display_data",
          "data": {
            "image/png": "[encoded data removed]",
            "text/plain": [
              "<Figure size 432x288 with 1 Axes>"
            ]
          },
          "metadata": {
            "needs_background": "light"
          }
        }
      ]
    },
    {
      "cell_type": "markdown",
      "metadata": {
        "id": "b_r70wKryOYz"
      },
      "source": [
        "##Definição da FT de dois métodos"
      ]
    },
    {
      "cell_type": "markdown",
      "metadata": {
        "id": "aTOYFsO48usb"
      },
      "source": [
        "\n",
        "Antes de iniciarmos o processo de determinação das funções de transferência, definimos as variáveis que seriam utilizadas para cada motor."
      ]
    },
    {
      "cell_type": "markdown",
      "metadata": {
        "id": "D_YssQMZyX_4"
      },
      "source": [
        "###Primeiro Método"
      ]
    },
    {
      "cell_type": "markdown",
      "metadata": {
        "id": "EiiBWMOc80V7"
      },
      "source": [
        "O método 1 utiliza funções prontas e importadas de artigos sobre o levantamento de funções de transferência através de código em python. A vantagem desse método é ser possível utilizar todos os valores de velocidade de cada motor (tanto os positivos, quanto os negativos)"
      ]
    },
    {
      "cell_type": "code",
      "metadata": {
        "id": "8I4UDzO03qP7"
      },
      "source": [
        "#Método 1\n",
        "\n",
        "#Variaveis para Motor 1\n",
        "t1_m1 = np.array(DF1['Time'])\n",
        "u1_m1 = np.array(DF1['U1'])\n",
        "y1_m1 = np.array(DF1['Vel1'])\n",
        "\n",
        "#Variáveis para o Motor 2\n",
        "t2_m1 = np.array(DF3['Time'])\n",
        "u2_m1 = np.array(DF3['U2'])\n",
        "y2_m1 = np.array(DF3['Vel2'])\n",
        "\n",
        "#Variáveis para o Motor 3\n",
        "t3_m1 = np.array(DF2['Time'])\n",
        "u3_m1 = np.array(DF2['U3'])\n",
        "y3_m1 = np.array(DF2['Vel3'])"
      ],
      "execution_count": null,
      "outputs": []
    },
    {
      "cell_type": "code",
      "metadata": {
        "id": "5Z7jrjdfU2IT"
      },
      "source": [
        "#Definição das funções que serão utilizadas\n",
        "class TF_identificator:\n",
        "    def __init__(self):\n",
        "        self.tf = None\n",
        "        self.inputs = None\n",
        "\n",
        "    def first_order_mdl(self, t, k, pole):\n",
        "        self.tf = sig.TransferFunction(k, [pole,1])\n",
        "        to, yo, xo = sig.lsim2(self.tf, U=self.inputs, T=t) #simulação da FT\n",
        "        return yo\n",
        "\n",
        "\n",
        "    def identify_first_order(self, t, u, orig_output, method='lm'):\n",
        "        self.inputs = u\n",
        "        params, params_cov = opt.curve_fit(self.first_order_mdl, t, orig_output,\n",
        "                                           method=method, maxfev=1000)\n",
        "        return params\n",
        "\n"
      ],
      "execution_count": null,
      "outputs": []
    },
    {
      "cell_type": "code",
      "metadata": {
        "colab": {
          "base_uri": "https://localhost:8080/"
        },
        "id": "kruDGsBVvoxx",
        "outputId": "7cf7bda4-1827-4b54-d969-af49b077b91b"
      },
      "source": [
        "#Identificação das funções de cada motor\n",
        "tf1_m1 = TF_identificator()\n",
        "params1 = tf1_m1.identify_first_order(t1_m1, u1_m1, y1_m1)\n",
        "G1 = tf(params1[0],[params1[1],1])\n",
        "print(G1)\n",
        "\n",
        "tf2_m1 = TF_identificator()\n",
        "params2 = tf2_m1.identify_first_order(t2_m1, u2_m1, y2_m1)\n",
        "G2 = tf(params2[0],[params2[1],1])\n",
        "print(G2)\n",
        "\n",
        "tf3_m1 = TF_identificator()\n",
        "params3 = tf3_m1.identify_first_order(t3_m1, u3_m1, y3_m1)\n",
        "G3 = tf(params3[0],[params3[1],1])\n",
        "print(G3)\n"
      ],
      "execution_count": null,
      "outputs": [
        {
          "output_type": "stream",
          "name": "stdout",
          "text": [
            "\n",
            "  0.01924\n",
            "------------\n",
            "0.7075 s + 1\n",
            "\n",
            "\n",
            "  0.01596\n",
            "------------\n",
            "0.2199 s + 1\n",
            "\n",
            "\n",
            "  0.01609\n",
            "------------\n",
            "0.4748 s + 1\n",
            "\n"
          ]
        }
      ]
    },
    {
      "cell_type": "markdown",
      "metadata": {
        "id": "u2vef3I7ycZ7"
      },
      "source": [
        "###Segundo Método"
      ]
    },
    {
      "cell_type": "markdown",
      "metadata": {
        "id": "-g1IGapZ86KX"
      },
      "source": [
        "Já no método 2, foram criadas funções autorais derivadas da teoria que embasa o estudo de funções de transferência. Sendo assim, foi possível atingir um resultado muito satisfatório quando comparado ao resultado que seria obtido através do MatLab e de forma muito mais simples."
      ]
    },
    {
      "cell_type": "code",
      "metadata": {
        "id": "0v6x_E412_h-"
      },
      "source": [
        "#Método 2 \n",
        "\n",
        "#Variaveis para Motor 1\n",
        "t1_m2 = np.array(DF1.append(DF2,ignore_index=True)['Time'])\n",
        "y1_m2 = np.array(DF1.append(DF2,ignore_index=True)['Vel1'])\n",
        "u1_m2 = np.array(DF1.append(DF2,ignore_index=True)['U1'])\n",
        "\n",
        "#Variáveis para o Motor 2\n",
        "t2_m2 = np.array(DF1.append(DF3,ignore_index=True)['Time'])\n",
        "y2_m2 = np.array(DF1.append(DF3,ignore_index=True)['Vel2'])\n",
        "u2_m2 = np.array(DF1.append(DF3,ignore_index=True)['U2'])\n",
        "\n",
        "#Variáveis para o Motor 3\n",
        "t3_m2 = np.array(DF2.append(DF3,ignore_index=True)['Time'])\n",
        "y3_m2 = np.array(DF2.append(DF3,ignore_index=True)['Vel3'])\n",
        "u3_m2 = np.array(DF2.append(DF3,ignore_index=True)['U3'])"
      ],
      "execution_count": null,
      "outputs": []
    },
    {
      "cell_type": "code",
      "metadata": {
        "id": "9ezyrVO3dbEN"
      },
      "source": [
        "#Definição das funções autorais\n",
        "class TF:\n",
        "    def __init__(self):\n",
        "        self.tf = None\n",
        "        self.inputs = None\n",
        "\n",
        "    def function(self, t, k, T):\n",
        "        return (k*self.inputs*(1-np.exp(-t/T)))\n",
        "\n",
        "\n",
        "    def identify(self, t, u, orig_output):\n",
        "        self.inputs = u\n",
        "        params, params_cov = opt.curve_fit(self.function, t, orig_output)\n",
        "        self.tf = tf(params[0],[params[1],1.])"
      ],
      "execution_count": null,
      "outputs": []
    },
    {
      "cell_type": "code",
      "metadata": {
        "id": "BjdL6Pz-YE3I",
        "colab": {
          "base_uri": "https://localhost:8080/"
        },
        "outputId": "d9880fa7-5b32-4929-cf94-957235434d0d"
      },
      "source": [
        "#Determinando os parâmetros 'k' e 'tau'\n",
        "\n",
        "tf1_m2 = TF()\n",
        "tf1_m2.identify(t1_m2, u1_m2, y1_m2)\n",
        "print(tf1_m2.tf)\n",
        "\n",
        "tf2_m2 = TF()\n",
        "tf2_m2.identify(t2_m2, u2_m2, y2_m2)\n",
        "print(tf2_m2.tf)\n",
        "\n",
        "tf3_m2 = TF()\n",
        "tf3_m2.identify(t3_m2, u3_m2, y3_m2)\n",
        "print(tf3_m2.tf)\n",
        "\n"
      ],
      "execution_count": null,
      "outputs": [
        {
          "output_type": "stream",
          "name": "stdout",
          "text": [
            "\n",
            "  0.01388\n",
            "------------\n",
            "0.1937 s + 1\n",
            "\n",
            "\n",
            "   0.0145\n",
            "------------\n",
            "0.1803 s + 1\n",
            "\n",
            "\n",
            "  0.01365\n",
            "------------\n",
            "0.1861 s + 1\n",
            "\n"
          ]
        }
      ]
    },
    {
      "cell_type": "markdown",
      "metadata": {
        "id": "D_DRsOXp9BBH"
      },
      "source": [
        "###Funções pelo Matlab"
      ]
    },
    {
      "cell_type": "markdown",
      "metadata": {
        "id": "jthyKVnEsLcP"
      },
      "source": [
        "![WhatsApp Image 2021-10-01 at 9.49.49 PM.jpeg](data:image/jpeg;base64,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)![WhatsApp Image 2021-10-01 at 9.49.38 PM.jpeg](data:image/jpeg;base64,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)![WhatsApp Image 2021-10-01 at 9.49.28 PM.jpeg](data:image/jpeg;base64,/9j/4AAQSkZJRgABAQAAAQABAAD/4gIoSUNDX1BST0ZJTEUAAQEAAAIYAAAAAAIQAABtbnRyUkdCIFhZWiAAAAAAAAAAAAAAAABhY3NwAAAAAAAAAAAAAAAAAAAAAAAAAAAAAAAAAAAAAQAA9tYAAQAAAADTLQAAAAAAAAAAAAAAAAAAAAAAAAAAAAAAAAAAAAAAAAAAAAAAAAAAAAAAAAAAAAAAAAAAAAlkZXNjAAAA8AAAAHRyWFlaAAABZAAAABRnWFlaAAABeAAAABRiWFlaAAABjAAAABRyVFJDAAABoAAAAChnVFJDAAABoAAAAChiVFJDAAABoAAAACh3dHB0AAAByAAAABRjcHJ0AAAB3AAAADxtbHVjAAAAAAAAAAEAAAAMZW5VUwAAAFgAAAAcAHMAUgBHAEIAAAAAAAAAAAAAAAAAAAAAAAAAAAAAAAAAAAAAAAAAAAAAAAAAAAAAAAAAAAAAAAAAAAAAAAAAAAAAAAAAAAAAAAAAAAAAAAAAAAAAAAAAAFhZWiAAAAAAAABvogAAOPUAAAOQWFlaIAAAAAAAAGKZAAC3hQAAGNpYWVogAAAAAAAAJKAAAA+EAAC2z3BhcmEAAAAAAAQAAAACZmYAAPKnAAANWQAAE9AAAApbAAAAAAAAAABYWVogAAAAAAAA9tYAAQAAAADTLW1sdWMAAAAAAAAAAQAAAAxlblVTAAAAIAAAABwARwBvAG8AZwBsAGUAIABJAG4AYwAuACAAMgAwADEANv/bAEMAAwICAgICAwICAgMDAwMEBgQEBAQECAYGBQYJCAoKCQgJCQoMDwwKCw4LCQkNEQ0ODxAQERAKDBITEhATDxAQEP/bAEMBAwMDBAMECAQECBALCQsQEBAQEBAQEBAQEBAQEBAQEBAQEBAQEBAQEBAQEBAQEBAQEBAQEBAQEBAQEBAQEBAQEP/AABEIAIABNAMBIgACEQEDEQH/xAAcAAEAAwEBAQEBAAAAAAAAAAAABQYHBAMBAgn/xAA0EAABBAIBAwIEBAYCAwEAAAABAAIDBAUGEQcSIRMxFCJBUTNhcsEIFRYjMkJxc1KBkaH/xAAXAQEBAQEAAAAAAAAAAAAAAAAAAQID/8QAKREBAAIBAQcEAwADAAAAAAAAAAERIQIxQVGRodHwYYGxwRJx4SLx8v/aAAwDAQACEQMRAD8A/qFhfwJP1/spFQtfJY/D4m5lcrdhqU6jTLPPNIGRxsA5LnOPAA/MqI0Pq9056k4Nuf1LbcXdhFVtyxHHdhfLViIJ5maxx7PY+/jwguKLMunXXDDdUMtlIdROEyGPx7rLGSVc9BPcmMMpj7jWaOGMc9p7XOk8jtJA5UzqfUK5ndpvahmddZjMhUqNvAQ5CO40ROeWdspYB6UoI/w8gjktc7g8Wrr1Jmsroi/E08NaJ09iZkUTBy573BrWj7kn2XLVzWGvy+hRy1KxLwT2RWGPdx9+AVB2oiICIiAiIgIiICIiAiIgIiICIiAiIgIiICIiAiIgIiICIiAiIgIiICIiCMxLe+pMwHjuJH/4qd0yxXUbU9eqalmcFg/hMJQNatagykj5LsjTxGSwwgRNI9/mcQT45Vzwv4En6/2UipW9WcdKsX1G1zXr+F2LW8NUm+KyF6pLBl32GSSWLUszI3j0GFoAkALhz7HgL5pun7LF1Bvbxl9dwWttsUDUsVsVZM7snOZGvFidxijHLA0tZ4Lv7r+XccBaQi1sm03UjthwdXZcJdwN572QXonQyOY1jnBp+we1zT/7aR+SpukdENW0LONz+IvXZbDYnxBstekxvDuOfMUDHfT/AMuFoaKRibgnMUIiICIiAiIgIiICIiAiIgIiICIiAiIgIiICIiAiIgIiICIiAiIgIiICIiCOwv4En6/2Uio7C/gSfr/ZSKAiIgIiICIiAiIgIiICIiAiIgIiICIiAiIgIiICIiAiIgIiICIiAiIgIiICIiAiIgjsL+BJ+v8AZSKjsL+BJ+v9lIoOLN1Y7uHu1JXzsZLXka50E74ZAC0+WvYQ5p/NpBCwf+HHWtxy+tYzbs/az+NvQ42rJRms7PkMrWygnpNLpp4Z5ewkSuLu1gYQRx3H3W+5ChSytGfG5KrFZq2o3RTQytDmSMcOC0g+4IURg9B0nWcDNq+vatjMdiJ2lklGtXbHA5pb2kFgHHHAA4+yRj8vWvvut4iGd6v1F6oHp3d6mbVFrdmlSqXnfA46tPFNJJBI9jJfUfI8Na7sJcztJYDz3u44Xlv3UbqZo2Hts/mGr5HJ2MPazFCWLGztgriAxcxTM+ILpGvEnDZWuZwR/gfZaLrHTjQtKjsQ6lqGJxEdtvZOynVZG2RvJPDgBwRy4/8A0rnPSjpmcbkMP/QeD+ByvaLtf4KP07AB7gHjjggHzx7Jqzs88/ib1J0DqT1EyO9HWNv/AKenqm3kMc2THVJoJPVqxwSeqe+V47XCct7PcFnPcee0a9KJHRPEL2skLSGOc3uAP0JHI5H5chV+p050KhkYstS0/EwXYLBtRWGVWCRkxiERkDuOQ4xta0n7ABTtynVyFSajdgZPXsMdFLE8ctewjggj6ghJ2V55aRifPNjK9Sy2x4jQ+odyOTEfzrCZbKSCxHUsCrYmZCyXvdA+w9zQS7gtbKB48AeygrXVbqth9Ty+RzD9WdkxpD9woehRsehXfGAX1pQ6fmUHubxI0x8eeWn66NjOjvSvDQ5Cviun2CqRZaF8F5kVJjW2Y38dzZAB8wPA55+yjtu6K6hm9ZyGH1vC4TBZOzg5teqZIYxszqdKRpa6JjWuYewAnhvcBzwfpwpmOURyiY+an2pvTVxfGZ9p1RPxce9q9e6gdTMLr/xl/Iatdu5TXrmax7qOPnMNSSCJsvpyAzkzxuDu0SNMXkD5fKmae5bfldqbrtfI4WGPJak3N1HfAyPkq2C9jD3/AN8erGe8kABhHHHcfdT2kdOsBp2P7WYXBNydmERX7eOxYpssj/rL3kD7gvI58r2wnTLp5rWRizGv6VhsdehifBHYrU2RyMjeQXMDgOQ0kA8e3hbmvynh/NXeOTnH5fjHH+x2nmq/QK5vF7p/gb+67lis1LdxkU0Qgx0lewD/ALOkkfZl9X3A5DW+VpNqAWq01Zzi0TRujJHuORwoXBaBo+sZKxmNd1LE429b7hNYq1GRyPBd3EFwHPBPkj7qfWJi4qWo/wAZwwjU+idzoFq2e2nXN2t5jKY/Tq+NgOWikmhc+iJ5TM9glBc6UyAO4cCOweT7K64PcM7md4razkZ8c/G5XVY8yxlaKSKzBKXsY4GX1Ty095LSGtI49z7rQJGMlY6KRjXseC1zXDkEH3BCrGK6WdN8HbF/DaNhKVkQS1RNBTYx4hk474+QOe08Dkey1czN6vMavuYn2TVFxjb/AM/UTHugelFCNtTeMPHLP6Eez3a8fqTPlexhhh/2eS4+XE8k88klRvRf+H+p0du/HRbllc5Idfx+BPxjncH4Z8z3WPL3fPIZh3f9Y8n6XTV+m2gaTbs3tQ0/E4excBFiWnWbE6XkgnuIHn2Hv9lZUjERXCI5RXfmcY3TMzzm+3JyZZmQfjLTMVahrXDE70JpoTNHG/jwXMDmFw/IOb/yFkPTjb9517ojDu+6bLjNlmgwAvw169CWtYe5jeXGWV9iX1Bzxy4Nbx5Pn2W0e/gqv4bp5omvXrWTwWnYehbvNcyxNXpxsfK1x5c0kD2JPJHsVmptrG9C4XZtro7bjdX2m7h8n/O6Ni/XmxlSSuKoiMfySB8snqNd6niQdnJb/j58WDdtjOoajmNobTdbOLpy2hCDx3lrSeCfPA+5+g5K+6/pWo6pLYn1rWsbjJLZ5ndVrtjMn/JA9vyUxJHHLG6KVjXseC1zXDkOB9wQrOzCacTllOxbz1C1atcpW8jruQyNrAZDN4+erjZmw1nVmMd6c0ZsF0rXd/Aka6PyP8V3U9y2/K7U3Xa+RwsMeS1JubqO+BkfJVsF7GHv/vj1Yz3kgAMI447j7q3YPR9O1l1p2vavjMcbo4sGtWYz1R9ncDyPJ8ey5cJ0y6ea1kYsxr+lYbHXoYnwR2K1NkcjI3kFzA4DkNJAPHt4SKvPmNXeOSTdY8zHaebLtV2zqjgf4d7G85XdddzGVp6xJlqbZcROxxfDGXu9dxtudKDx28js4J58+ylL3UDqZhdf+Mv5DVrt3Ka9czWPdRx85hqSQRNl9OQGcmeNwd2iRpi8gfL5Vj2bozqV/WNlw+oYXB65ktloWMfPkosU2RzWTAh5LWujLue4njuA54J5UppHTrAadj+1mFwTcnZhEV+3jsWKbLI/6y95A+4LyOfKlTOmY313/jWInTv230r7QNPctvyu1N12vkcLDHktSbm6jvgZHyVbBexh7/749WM95IADCOOO4+68+gVzeL3T/A3913LFZqW7jIpohBjpK9gH/Z0kj7Mvq+4HIa3yrRhOmXTzWsjFmNf0rDY69DE+COxWpsjkZG8guYHAchpIB49vC98FoGj6xkrGY13UsTjb1vuE1irUZHI8F3cQXAc8E+SPutTMXcevzMx0qPZiImszw+IvrF+6atQC1WmrOcWiaN0ZI9xyOFjvTP8Ah+v9H6d67rG72stmDq9LA1H5dkksHrVnTvFiRglBcZHTNDgHA8MHn7bOufIR35aM8eKtQVrjmEQTTwGaNj/oXMD2Fw/IOb/yFmYxNebe8txO6fNk/UMp6d9S9o6j5zHYmOTHCnSwbjtjGUpYZquVMjovhopBOfTIdHMSCHEBrCHfOFL9KKEbam8YeOWf0I9nu14/UmfK9jDDD/s8lx8uJ5J55JK7+m/TmzpuNz0Ow5XH5u/smVs5TIWq+NNNsxlAaGOjMsvIaxrWD5v8QORzyTJ6v020DSbdm9qGn4nD2LgIsS06zYnS8kE9xA8+w9/srUTd74r3mYnpVfpmd1bp6REx12qX0X/h/qdHbvx0W5ZXOSHX8fgT8Y53B+GfM91jy93zyGYd3/WPJ+lg6V7PtOzw7I/aMrp9447P26NI63cfYbFWYR2R2u4/JZHJ72DwPCvKiNe1HVtSF5ur67jsSMpckyF0U6zIRYtScd8z+0Due7gcuPkq3Mzc+vzfdZ7dIrsl0RFAREQEREEdhfwJP1/spFR2F/Ak/X+ykUBRe05yPWNYy+ySxGVmJoWLzox7vEUbnkf++1Si8LtOtkac+Puwtlr2onQyxuHh7HAhwP5EEqarmJprTMRqidWxn+mbDtlbbaGubRmo8qM9gX52FzKzIRTkjkhZJC3tA74z8QwtLuXDtPJPI4v2Sv18XjrWTtu7YKcL55T9mMaXE/8AwKt6n07qavkBlJ85kcvZr0hjKL7vpg1KYcHeiz02N7uS1nLncuPY3k+F+tM0H+kqudpXdtz+yRZzJ2cgW5q0LHwjJuOasPyjtgb57WHnjk+VdeYmNONvzjp8M6MV+XpfLPX5U/pB1Is9SombC3Z7rW5ig63jaE2FNekIiW8SQyvaJLPZ3NDnB4a7nloAIKsvTvY8zfqbQdqyled2DzlqkLDIBAwQRxRP5LeTwB3u8kk8e5PuvPU+lFPUZq7qey5WzXxdGTG4WtOIDHi67+35Y+2MF/AYxoMhdw1oH3TTul8usnPQ5jccjslLY5prF2nkalRsTpJWtY8/2omEtLWBvaSR5Kb5mOE1fG4rpaZmr45rhU31pX+knUDct92TbZclJWr4eSvSva3D8N88VSYTNZJMeQXmT0hJxyOGvA5+qs/TTOZ/Mx7JX2K/DcnxOfsY6OWKuIWmJscTgO0E8cF7vck8cck+6jNH6Hat072rYNo1OX+XnPVIaYqV6VaKGmyLu7PT7Iw48d5/zLgeB9lJaD08yOj3cvasb3ls4zM25L80N2tUjayw8MDntMMTD7MA4JIV01E+ldbiukTzSbr36VP3XJdERFGhERAREQEREBERAREQEREBERAREQEREBERAREQEREBERAREQR2F/Ak/X+ykVHYX8CT9f7KRQEXhepw5CnNRsOmbFYjdG8wzPheARwe17CHNP5tII+hVdxXTbW8KLQpXNkeLkDq8vxWz5Kzww+5Z6s7vTd9ns4cPoUFpRVbFdNtbwotClc2R4uQOry/FbPkrPDD7lnqzu9N32ezhw+hTFdNtbwotClc2R4uQOry/FbPkrPDD7lnqzu9N32ezhw+hQWlFVsV021vCi0KVzZHi5A6vL8Vs+Ss8MPuWerO703fZ7OHD6FMV021vCi0KVzZHi5A6vL8Vs+Ss8MPuWerO703fZ7OHD6FBaUVWxXTbW8KLQpXNkeLkDq8vxWz5Kzww+5Z6s7vTd9ns4cPoUxXTbW8KLQpXNkeLkDq8vxWz5Kzww+5Z6s7vTd9ns4cPoUFpRVbFdNtbwotClc2R4uQOry/FbPkrPDD7lnqzu9N32ezhw+hXtrmhYHVbcl3FWs9JJIz03C/sF++zjnnwyxM9oPj3A5/NBY0REBERAREQEREBERAREQEREBERAREQEREBERAREQEREBERBHYX8CT9f7KRUdhfwJP1/spFARRe03XY3WctkGR5CR1alPKG4+IS2iWsJ4hYfDpPHyg+54WQdE6Odpbg9kmxbVm6H8okbZmylXJVI4bPqxFofFdlk753ND+XQFsbQHDsHISMzXmyeyziL83d25r8skjk7gx7Xdh7XcHng/Y/mvG/HelpTx4yzDWtujIhlnhM0bH8eC5gc0uH5BzefuFmHRjBdScTl9wm27OYmenY2K1KyKDAzU5JnGKDiZkj7Mg9M8Ecdp8g/N9EjOqY9L6xH2mrERPrXSZ+mqSyxwxvmmkayONpc5zjwGge5J+gUNre7axtzrDNfyfxLq3a6RroZIiWO57ZGh7R3xu4PD28tPB4JXTs9aa7rWWp16Md2WejPEytI4tZM50bgGOI8gOJ4J/NZl0fqZP+pDZsWsvk4Kev1se+3lMW6i+pMyQk1Y2mOMSM48l3DiO1vznlNOdVebJ7Rz/AFEtWNN+bY79P3WuzTQ1oZLFiVscUTS973HhrWgckk/QAKv6/wBQtO2ea3Xw2aZLLRiE8zJYZICITzxK0SNb3xng8SN5aePdcuodRINvo5+8zUtmxI1/JWca+LJ410Elww8czVm8kyxP5+Rw/wAvss+xsM+yb3tWawFLP5qjkNZsVJW5+nNTirWC/mOnW9SONxjeC8ycB3HbH83nhSZmrjhfS45tRF8661LT8Dvmp7LHblw+YZK2iwSzmSKSHiI8kSj1Gt7oz2niRvLTweCeF81vftS261Yo4DLixYqsbLJE+CSF5icSGyNEjWl8ZIID28tP0KzrpUzI1M1Pk7UuczFfG63BSfYvYh1OavNG8udUhj9OP1Rx55AceWtHceV06NIcv1gymzYc7HextjDmGzPm6MtVtCb1w5laqJY2FzHD1HP8OALI/m88LdZiP30uudRz34Yuamf19fF/6y1xERZUREQEREBERAREQEREBERAREQEREBERAREQEREBERAREQR2F/Ak/X+ykVHYX8CT9f7KRQEREBERAREQEREBERAREQEREBERAREQEREBERAREQEREBERAREQEREBERAREQEREH/2Q==)"
      ]
    },
    {
      "cell_type": "code",
      "metadata": {
        "colab": {
          "base_uri": "https://localhost:8080/"
        },
        "id": "WtjrkwG-4SRn",
        "outputId": "f5e97324-6e89-49d8-e9bb-8c2b2147dc6b"
      },
      "source": [
        "tf1_ml = tf(0.08156,[1,5.36])\n",
        "print(tf1_ml)\n",
        "tf2_ml = tf(0.09825,[1,6.317])\n",
        "print(tf2_ml)\n",
        "tf3_ml = tf(0.1185,[1,8.548])\n",
        "print(tf3_ml)"
      ],
      "execution_count": null,
      "outputs": [
        {
          "output_type": "stream",
          "name": "stdout",
          "text": [
            "\n",
            "0.08156\n",
            "--------\n",
            "s + 5.36\n",
            "\n",
            "\n",
            " 0.09825\n",
            "---------\n",
            "s + 6.317\n",
            "\n",
            "\n",
            " 0.1185\n",
            "---------\n",
            "s + 8.548\n",
            "\n"
          ]
        }
      ]
    },
    {
      "cell_type": "markdown",
      "metadata": {
        "id": "1F3frtDJ88eN"
      },
      "source": [
        "###Comparação das funções encontradas"
      ]
    },
    {
      "cell_type": "markdown",
      "metadata": {
        "id": "AGIgM6DUwhfZ"
      },
      "source": [
        "\n",
        "\n",
        "No final, podem-se observar as funções  de tranferência encontradas plotadas em um gráfico, para melhor visualização dos resultados."
      ]
    },
    {
      "cell_type": "code",
      "metadata": {
        "colab": {
          "base_uri": "https://localhost:8080/",
          "height": 281
        },
        "id": "YJbmmq6g2g3I",
        "outputId": "5b93bf82-67a4-475c-e813-bdd0763b4a1a"
      },
      "source": [
        "#Plotando as funções encontradas Método 1\n",
        "fig, ax = plt.subplots() #criação de uma figura e um axes\n",
        "x1,y1 = tf1_m1.tf.step()\n",
        "ax.plot(x1,y1, label='Motor 1') #plotar as coordenadas x e y e nomear esse conjunto de dados como 'Motor 1'\n",
        "\n",
        "x2,y2 = tf2_m1.tf.step()\n",
        "ax.plot(x2,y2, label='Motor 2')\n",
        "\n",
        "x3,y3 = tf3_m1.tf.step()\n",
        "ax.plot(x3,y3, label='Motor 3')\n",
        "\n",
        "ax.set_title(\"Resposta a Degrau dos motores\") \n",
        "ax.legend() \n",
        "plt.show()"
      ],
      "execution_count": null,
      "outputs": [
        {
          "output_type": "display_data",
          "data": {
            "image/png": "[encoded data removed]",
            "text/plain": [
              "<Figure size 432x288 with 1 Axes>"
            ]
          },
          "metadata": {
            "needs_background": "light"
          }
        }
      ]
    },
    {
      "cell_type": "code",
      "metadata": {
        "id": "YenQwNI-2ZAf",
        "colab": {
          "base_uri": "https://localhost:8080/",
          "height": 281
        },
        "outputId": "f2442b40-1163-4a56-b3fa-2dad0bd9a966"
      },
      "source": [
        "#Plotando as funções encontradas Método 2\n",
        "'''Funções com domínio nos complexos'''\n",
        "fig, ax = plt.subplots()\n",
        "\n",
        "y1_2,x1_2 = step(tf1_m2.tf)\n",
        "ax.plot(x1_2,y1_2, label=str(tf1_m2.tf))\n",
        "\n",
        "y2_2,x2_2 = step(tf2_m2.tf)\n",
        "ax.plot(x2_2,y2_2, label=str(tf2_m2.tf))\n",
        "\n",
        "y3_2,x3_2 = step(tf3_m2.tf)\n",
        "ax.plot(x3_2,y3_2, label=str(tf3_m2.tf))\n",
        "\n",
        "ax.set_title(\"Resposta a Degrau dos motores\")\n",
        "ax.legend()\n",
        "plt.legend(bbox_to_anchor=(1.05,1), loc='upper left' )\n",
        "plt.show()"
      ],
      "execution_count": null,
      "outputs": [
        {
          "output_type": "display_data",
          "data": {
            "image/png": "[encoded data removed]",
            "text/plain": [
              "<Figure size 432x288 with 1 Axes>"
            ]
          },
          "metadata": {
            "needs_background": "light"
          }
        }
      ]
    },
    {
      "cell_type": "code",
      "metadata": {
        "id": "A0a1rC335r2_",
        "colab": {
          "base_uri": "https://localhost:8080/",
          "height": 281
        },
        "outputId": "36b49579-aace-48e9-d736-4d59e6c6a6e8"
      },
      "source": [
        "#Plotando as funções encontradas MATLAB\n",
        "'''Funções com domínio nos complexos'''\n",
        "fig, ax = plt.subplots()\n",
        "y1_3,x1_3 = step(tf1_ml)\n",
        "ax.plot(x1_3,y1_3, label=(str(tf1_ml)))\n",
        "\n",
        "y2_3,x2_3 = step(tf2_ml)\n",
        "ax.plot(x2_3,y2_3, label=str(tf2_ml))\n",
        "\n",
        "y3_3,x3_3 = step(tf3_ml)\n",
        "ax.plot(x3_3,y3_3, label=str(tf3_ml))\n",
        "\n",
        "ax.set_title(\"Resposta a Degrau dos motores\")\n",
        "ax.legend()\n",
        "plt.legend(bbox_to_anchor=(1.05,1), loc='upper left' )\n",
        "plt.show()"
      ],
      "execution_count": null,
      "outputs": [
        {
          "output_type": "display_data",
          "data": {
            "image/png": "[encoded data removed]",
            "text/plain": [
              "<Figure size 432x288 with 1 Axes>"
            ]
          },
          "metadata": {
            "needs_background": "light"
          }
        }
      ]
    },
    {
      "cell_type": "code",
      "metadata": {
        "id": "Cim_xI5e8BkV",
        "colab": {
          "base_uri": "https://localhost:8080/",
          "height": 267
        },
        "outputId": "9463a3f7-277e-42f2-bed9-a4404bf688b8"
      },
      "source": [
        "#Comparação motor 1\n",
        "fig, ax = plt.subplots()\n",
        "\n",
        "x1,y1 = tf1_m1.tf.step()\n",
        "ax.plot(x1,y1, label='Motor 1') #plotar as coordenadas x e y e nomear esse conjunto de dados como 'Motor 1'\n",
        "\n",
        "\n",
        "\n",
        "y1_2,x1_2 = step(tf1_m2.tf)\n",
        "ax.plot(x1_2,y1_2, label=str(tf1_m2.tf))\n",
        "\n",
        "\n",
        "y1_3,x1_3 = step(tf1_ml)\n",
        "ax.plot(x1_3,y1_3, label=(str(tf1_ml)))\n",
        "\n",
        "\n",
        "ax.legend()\n",
        "plt.legend(bbox_to_anchor=(1.05,1), loc='upper left' )\n",
        "plt.show()"
      ],
      "execution_count": null,
      "outputs": [
        {
          "output_type": "display_data",
          "data": {
            "image/png": "[encoded data removed]",
            "text/plain": [
              "<Figure size 432x288 with 1 Axes>"
            ]
          },
          "metadata": {
            "needs_background": "light"
          }
        }
      ]
    },
    {
      "cell_type": "code",
      "metadata": {
        "id": "RzRnY28a8bIg",
        "colab": {
          "base_uri": "https://localhost:8080/",
          "height": 265
        },
        "outputId": "e375e727-7047-4295-9406-154f17a26327"
      },
      "source": [
        "#Comparação motor 2\n",
        "fig, ax = plt.subplots()\n",
        "\n",
        "x2_1,y2_1 = tf2_m1.tf.step()\n",
        "ax.plot(x2_1,y2_1, label='Motor 2')\n",
        "\n",
        "y2_2,x2_2 = step(tf2_m2.tf)\n",
        "ax.plot(x2_2,y2_2, label=str(tf2_m2.tf))\n",
        "\n",
        "y2_3,x2_3 = step(tf2_ml)\n",
        "ax.plot(x2_3,y2_3, label=str(tf2_ml))\n",
        "\n",
        "ax.legend()\n",
        "plt.legend(bbox_to_anchor=(1.05,1), loc='upper left' )\n",
        "plt.show()"
      ],
      "execution_count": null,
      "outputs": [
        {
          "output_type": "display_data",
          "data": {
            "image/png": "[encoded data removed]",
            "text/plain": [
              "<Figure size 432x288 with 1 Axes>"
            ]
          },
          "metadata": {
            "needs_background": "light"
          }
        }
      ]
    },
    {
      "cell_type": "code",
      "metadata": {
        "id": "fXw93O5e8m6a",
        "colab": {
          "base_uri": "https://localhost:8080/",
          "height": 265
        },
        "outputId": "d8158f83-4c63-4c06-eae4-dd72e2b459f0"
      },
      "source": [
        "#Comparação motor 3\n",
        "\n",
        "fig, ax = plt.subplots()\n",
        "\n",
        "x3_1,y3_1 = tf3_m1.tf.step()\n",
        "ax.plot(x3_1,y3_1, label='Motor 3')\n",
        "\n",
        "y3_2,x3_2 = step(tf3_m2.tf)\n",
        "ax.plot(x3_2,y3_2, label=str(tf3_m2.tf))\n",
        "\n",
        "y3_3,x3_3 = step(tf3_ml)\n",
        "ax.plot(x3_3,y3_3, label=str(tf3_ml))\n",
        "\n",
        "ax.legend()\n",
        "plt.legend(bbox_to_anchor=(1.05,1), loc='upper left' )\n",
        "plt.show()"
      ],
      "execution_count": null,
      "outputs": [
        {
          "output_type": "display_data",
          "data": {
            "image/png": "[encoded data removed]",
            "text/plain": [
              "<Figure size 432x288 with 1 Axes>"
            ]
          },
          "metadata": {
            "needs_background": "light"
          }
        }
      ]
    },
    {
      "cell_type": "markdown",
      "metadata": {
        "id": "I5ufdvsYxj78"
      },
      "source": [
        "https://jckantor.github.io/CBE30338/05.04-Controller-Tuning-Rules-in-Frequency-Domain.html"
      ]
    },
    {
      "cell_type": "markdown",
      "metadata": {
        "id": "JxqKiRnhqLha"
      },
      "source": [
        "##Projeto do controlador de velocidade PI"
      ]
    },
    {
      "cell_type": "markdown",
      "metadata": {
        "id": "tNP2_wJlqUF_"
      },
      "source": [
        "bla bla bla, oq é um controlador, pq escolher um PI"
      ]
    },
    {
      "cell_type": "markdown",
      "metadata": {
        "id": "C-H_MA9YqboX"
      },
      "source": [
        "###Definição dos Parâmetros"
      ]
    },
    {
      "cell_type": "code",
      "metadata": {
        "id": "91VzjNi7QPWZ"
      },
      "source": [
        "G1 = tf1_m2.tf\n",
        "G2 = tf2_m2.tf\n",
        "G3 = tf3_m2.tf"
      ],
      "execution_count": null,
      "outputs": []
    },
    {
      "cell_type": "markdown",
      "metadata": {
        "id": "qjA3Jd-20e0Y"
      },
      "source": [
        "####Máximo de sobressinal "
      ]
    },
    {
      "cell_type": "markdown",
      "metadata": {
        "id": "x6r8pSWE2ush"
      },
      "source": [
        "![image.png](data:image/png;base64,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)"
      ]
    },
    {
      "cell_type": "markdown",
      "metadata": {
        "id": "mtzZqKnH3OkP"
      },
      "source": [
        "Mp = 1%"
      ]
    },
    {
      "cell_type": "code",
      "metadata": {
        "colab": {
          "base_uri": "https://localhost:8080/"
        },
        "id": "vPCi0BaLqaFa",
        "outputId": "907de72b-332a-4ed4-eb70-d39f1f4081cb"
      },
      "source": [
        "Mp = 1/100\n",
        "zeta = np.sqrt((np.log(Mp)**2)/(np.pi**2 + np.log(Mp)**2))\n",
        "zeta\n"
      ],
      "execution_count": null,
      "outputs": [
        {
          "output_type": "execute_result",
          "data": {
            "text/plain": [
              "0.8260850546139571"
            ]
          },
          "metadata": {},
          "execution_count": 29
        }
      ]
    },
    {
      "cell_type": "markdown",
      "metadata": {
        "id": "_lzicchr8kUF"
      },
      "source": [
        "####Tempo de assentamento"
      ]
    },
    {
      "cell_type": "markdown",
      "metadata": {
        "id": "HQP97aK94dhs"
      },
      "source": [
        "![image.png](data:image/png;base64,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)"
      ]
    },
    {
      "cell_type": "markdown",
      "metadata": {
        "id": "Gm1PJ1UP4yeR"
      },
      "source": [
        "Ts = 0.5"
      ]
    },
    {
      "cell_type": "code",
      "metadata": {
        "colab": {
          "base_uri": "https://localhost:8080/"
        },
        "id": "3e1o8OCX41xg",
        "outputId": "60702190-8c15-4386-d228-7748f9ad8ede"
      },
      "source": [
        "Ts = 0.5\n",
        "omega_n = 4/(zeta*Ts)\n",
        "omega_n"
      ],
      "execution_count": null,
      "outputs": [
        {
          "output_type": "execute_result",
          "data": {
            "text/plain": [
              "9.684232822416245"
            ]
          },
          "metadata": {},
          "execution_count": 30
        }
      ]
    },
    {
      "cell_type": "markdown",
      "metadata": {
        "id": "FOYsk7rI8q7V"
      },
      "source": [
        "####Definição dos polos desejados"
      ]
    },
    {
      "cell_type": "markdown",
      "metadata": {
        "id": "dmKZ2ikU5IAy"
      },
      "source": [
        "![image.png](data:image/png;base64,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)"
      ]
    },
    {
      "cell_type": "code",
      "metadata": {
        "id": "wqHOmhUz5Vc9"
      },
      "source": [
        "p1 = -zeta*omega_n + (omega_n*np.sqrt(1-zeta**2))*1j\n",
        "p2 = -zeta*omega_n - (omega_n*np.sqrt(1-zeta**2))*1j"
      ],
      "execution_count": null,
      "outputs": []
    },
    {
      "cell_type": "markdown",
      "metadata": {
        "id": "r6V0AkqO8u7Y"
      },
      "source": [
        "###Controlador PI"
      ]
    },
    {
      "cell_type": "markdown",
      "metadata": {
        "id": "aGJu38Dc8dKK"
      },
      "source": [
        "Utilizando o PI \n",
        "\n"
      ]
    },
    {
      "cell_type": "markdown",
      "metadata": {
        "id": "vMCccrnv9I9r"
      },
      "source": [
        "![image.png](data:image/png;base64,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)"
      ]
    },
    {
      "cell_type": "code",
      "metadata": {
        "colab": {
          "base_uri": "https://localhost:8080/",
          "height": 57
        },
        "id": "gZhMw3PqCsXa",
        "outputId": "18a3145f-f0af-42c2-baae-6281000b3b6a"
      },
      "source": [
        "Td = 0\n",
        "Kp = sympy.symbols('Kp')\n",
        "Ti = sympy.symbols('Ti')\n",
        "s = sympy.symbols('s')\n",
        "G_PID = Kp*(1+1/(Ti*s)+Td*s)\n",
        "G_PID\n"
      ],
      "execution_count": null,
      "outputs": [
        {
          "output_type": "execute_result",
          "data": {
            "text/latex": "$\\displaystyle Kp \\left(1 + \\frac{1}{Ti s}\\right)$",
            "text/plain": [
              "Kp*(1 + 1/(Ti*s))"
            ]
          },
          "metadata": {},
          "execution_count": 32
        }
      ]
    },
    {
      "cell_type": "markdown",
      "metadata": {
        "id": "rWaotfq7BGGG"
      },
      "source": [
        "Arrumando a Função"
      ]
    },
    {
      "cell_type": "code",
      "metadata": {
        "colab": {
          "base_uri": "https://localhost:8080/",
          "height": 53
        },
        "id": "SGsGQQqaBFkw",
        "outputId": "59f3bae4-f532-4902-9e62-09856ca76b3a"
      },
      "source": [
        "G_PID = Kp*((Ti*s+1)/(Ti*s))\n",
        "G_PID"
      ],
      "execution_count": null,
      "outputs": [
        {
          "output_type": "execute_result",
          "data": {
            "text/latex": "$\\displaystyle \\frac{Kp \\left(Ti s + 1\\right)}{Ti s}$",
            "text/plain": [
              "Kp*(Ti*s + 1)/(Ti*s)"
            ]
          },
          "metadata": {},
          "execution_count": 33
        }
      ]
    },
    {
      "cell_type": "markdown",
      "metadata": {
        "id": "fZ9BQ0UJ9r2V"
      },
      "source": [
        "####Critério de *Fase*"
      ]
    },
    {
      "cell_type": "markdown",
      "metadata": {
        "id": "gxIWTdS_9zK6"
      },
      "source": [
        "![image.png](data:image/png;base64,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)"
      ]
    },
    {
      "cell_type": "code",
      "metadata": {
        "colab": {
          "base_uri": "https://localhost:8080/"
        },
        "id": "5hzV5jK1-V1Y",
        "outputId": "b80d10d3-7cfc-46ce-b90c-8335e27cfe8c"
      },
      "source": [
        "#Determinação da constante de Tempo de integração (Ti) de cada motor\n",
        "aux = np.tan(-np.pi + np.angle(G1.den[0][0][0]*p1+1) + np.angle(p1))\n",
        "Ti_1 = aux/(p1.imag-p1.real*aux)\n",
        "print(Ti_1)\n",
        "\n",
        "aux = np.tan(-np.pi + np.angle(G2.den[0][0][0]*p1+1) + np.angle(p1))\n",
        "Ti_2 = aux/(p1.imag-p1.real*aux)\n",
        "print(Ti_2)\n",
        "\n",
        "aux = np.tan(-np.pi + np.angle(G3.den[0][0][0]*p1+1) + np.angle(p1))\n",
        "Ti_3 = aux/(p1.imag-p1.real*aux)\n",
        "print(Ti_3)"
      ],
      "execution_count": null,
      "outputs": [
        {
          "output_type": "stream",
          "name": "stdout",
          "text": [
            "0.11554991262083175\n",
            "0.11147188405327257\n",
            "0.11332092945117932\n"
          ]
        }
      ]
    },
    {
      "cell_type": "markdown",
      "metadata": {
        "id": "tGlhHBpbVc5r"
      },
      "source": [
        "####Critério do *Módulo*"
      ]
    },
    {
      "cell_type": "markdown",
      "metadata": {
        "id": "CqkA5KxtWf34"
      },
      "source": [
        "![image.png](data:image/png;base64,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)"
      ]
    },
    {
      "cell_type": "code",
      "metadata": {
        "colab": {
          "base_uri": "https://localhost:8080/"
        },
        "id": "YDsqr3oBVxBc",
        "outputId": "48a33c68-edc2-4884-8d01-51fc483c9c36"
      },
      "source": [
        "#Determinação da constante de proporcionalidade (Kp) de cada motor\n",
        "Kp_1 = (np.absolute(Ti_1*p1)*np.absolute(G1.den[0][0][0]*p1+1))/(np.absolute(Ti_1*p1+1)*G1.num[0][0][0])\n",
        "print(Kp_1)\n",
        "\n",
        "Kp_2 = (np.absolute(Ti_2*p1)*np.absolute(G2.den[0][0][0]*p1+1))/(np.absolute(Ti_2*p1+1)*G2.num[0][0][0])\n",
        "print(Kp_2)\n",
        "\n",
        "Kp_3 = (np.absolute(Ti_3*p1)*np.absolute(G3.den[0][0][0]*p1+1))/(np.absolute(Ti_3*p1+1)*G3.num[0][0][0])\n",
        "print(Kp_3)"
      ],
      "execution_count": null,
      "outputs": [
        {
          "output_type": "stream",
          "name": "stdout",
          "text": [
            "151.16556418369055\n",
            "130.04988348227812\n",
            "144.89267700413836\n"
          ]
        }
      ]
    },
    {
      "cell_type": "code",
      "metadata": {
        "colab": {
          "base_uri": "https://localhost:8080/"
        },
        "id": "65CHMI4mZrhS",
        "outputId": "017e135f-ffb6-49ff-914a-7ff401cb3e42"
      },
      "source": [
        "#Determinação da função de transferência do controlador de cada motor\n",
        "G1_PID = Kp_1*tf([Ti_1,1],[Ti_1,0])\n",
        "print(G1_PID)\n",
        "\n",
        "G2_PID = Kp_2*tf([Ti_2,1],[Ti_2,0])\n",
        "print(G2_PID)\n",
        "\n",
        "G3_PID = Kp_3*tf([Ti_3,1],[Ti_3,0])\n",
        "print(G3_PID)"
      ],
      "execution_count": null,
      "outputs": [
        {
          "output_type": "stream",
          "name": "stdout",
          "text": [
            "\n",
            "17.47 s + 151.2\n",
            "---------------\n",
            "   0.1155 s\n",
            "\n",
            "\n",
            "14.5 s + 130\n",
            "------------\n",
            "  0.1115 s\n",
            "\n",
            "\n",
            "16.42 s + 144.9\n",
            "---------------\n",
            "   0.1133 s\n",
            "\n"
          ]
        }
      ]
    },
    {
      "cell_type": "code",
      "metadata": {
        "id": "yheUhaA4dRDo",
        "colab": {
          "base_uri": "https://localhost:8080/",
          "height": 281
        },
        "outputId": "cd1aa9bc-8169-4175-9bc7-3f9d7ecb89d6"
      },
      "source": [
        "#Adquirindo as coordenadas x e y para plotar o gráfico dos controladores\n",
        "yc_1,xc_1 = step(feedback(G1_PID*G1,))\n",
        "plt.plot(xc_1,yc_1, label='Motor 1')\n",
        "\n",
        "yc_2,xc_2 = step(feedback(G2_PID*G2,))\n",
        "plt.plot(xc_2,yc_2, label='Motor 2')\n",
        "\n",
        "yc_3,xc_3 = step(feedback(G3_PID*G3,))\n",
        "plt.plot(xc_3,yc_3, label='Motor 3')\n",
        "\n",
        "plt.title(\"Controladores\")\n",
        "plt.legend()\n",
        "plt.show()"
      ],
      "execution_count": null,
      "outputs": [
        {
          "output_type": "display_data",
          "data": {
            "image/png": "[encoded data removed]",
            "text/plain": [
              "<Figure size 432x288 with 1 Axes>"
            ]
          },
          "metadata": {
            "needs_background": "light"
          }
        }
      ]
    },
    {
      "cell_type": "markdown",
      "metadata": {
        "id": "rvvNp-fdcUk-"
      },
      "source": [
        "##Implementação Controlador\n"
      ]
    },
    {
      "cell_type": "markdown",
      "metadata": {
        "id": "eLcsE8spco2G"
      },
      "source": [
        "###Equação de diferenças"
      ]
    },
    {
      "cell_type": "code",
      "metadata": {
        "colab": {
          "base_uri": "https://localhost:8080/"
        },
        "id": "pbsC-760f7jP",
        "outputId": "5c68c700-6792-4cd9-9dbc-748bd0e09f9e"
      },
      "source": [
        "#Para aplicar o controlador em um microcontrolador\n",
        "G1_PID_z = G1_PID.sample(0.25)\n",
        "print(G1_PID_z)\n",
        "\n",
        "G2_PID_z = G2_PID.sample(0.25)\n",
        "print(G2_PID_z) \n",
        "\n",
        "G3_PID_z = G3_PID.sample(0.25)\n",
        "print(G3_PID_z) "
      ],
      "execution_count": null,
      "outputs": [
        {
          "output_type": "stream",
          "name": "stdout",
          "text": [
            "\n",
            "151.2 z + 175.9\n",
            "---------------\n",
            "     z - 1\n",
            "\n",
            "dt = 0.25\n",
            "\n",
            "\n",
            "130 z + 161.6\n",
            "-------------\n",
            "    z - 1\n",
            "\n",
            "dt = 0.25\n",
            "\n",
            "\n",
            "144.9 z + 174.8\n",
            "---------------\n",
            "     z - 1\n",
            "\n",
            "dt = 0.25\n",
            "\n"
          ]
        }
      ]
    }
  ]
}